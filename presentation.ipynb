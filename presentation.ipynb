{
 "cells": [
  {
   "cell_type": "markdown",
   "metadata": {},
   "source": [
    "# RAG"
   ]
  },
  {
   "cell_type": "markdown",
   "metadata": {},
   "source": [
    "![rag](data/images/rag.jpg \"RAG\")"
   ]
  },
  {
   "cell_type": "code",
   "execution_count": 6,
   "metadata": {},
   "outputs": [],
   "source": [
    "# Load OpenAI key from env\n",
    "\n",
    "import os\n",
    "from dotenv import load_dotenv\n",
    "load_dotenv(override=True)\n",
    "\n",
    "azure_version = \"2024-06-01\"\n",
    "azure_deployment = os.getenv(\"AZURE_OPENAI_DEPLOYMENT\")\n",
    "azure_reasoning = os.getenv(\"AZURE_OPENAI_REASONING\")\n",
    "azure_embeddings = os.getenv(\"AZURE_OPENAI_EMBEDDINGS\")\n",
    "azure_whisper = os.getenv(\"AZURE_OPENAI_WHISPER\")\n",
    "azure_endpoint = os.getenv(\"AZURE_OPENAI_ENDPOINT\")\n",
    "azure_key = os.getenv(\"AZURE_OPENAI_KEY\")"
   ]
  },
  {
   "cell_type": "code",
   "execution_count": 7,
   "metadata": {},
   "outputs": [],
   "source": [
    "# create llm instance\n",
    "\n",
    "from langchain_openai.chat_models import AzureChatOpenAI\n",
    "\n",
    "llm = AzureChatOpenAI(\n",
    "    api_key=azure_key,\n",
    "    api_version=azure_version,\n",
    "    azure_deployment=azure_deployment,\n",
    "    model=azure_deployment,\n",
    "    azure_endpoint=azure_endpoint,\n",
    ")"
   ]
  },
  {
   "cell_type": "code",
   "execution_count": 6,
   "metadata": {},
   "outputs": [
    {
     "data": {
      "text/plain": [
       "AIMessage(content='Pub quizzes, also known as trivia nights, are social events typically held in pubs, bars, and restaurants where participants form teams to answer questions on a variety of topics in hopes of winning prizes. The concept originated in the United Kingdom but has become popular in many countries around the world.\\n\\nHere are some key features of pub quizzes:\\n\\n1. **Format**: Pub quizzes usually comprise several rounds, each focusing on a different category such as general knowledge, music, sports, history, pop culture, or current events. Some quizzes may have themed rounds or picture rounds.\\n\\n2. **Team-based**: Participants form teams, often with friends, family, or co-workers. Team sizes can vary, but they typically range from two to six members. The team dynamics add a social aspect to the event.\\n\\n3. **Question Types**: Questions can be multiple-choice, short answer, true or false, or even involve identifying pictures or songs. Quizmasters—people who host and present the quiz—might mix up the format to keep the event engaging.\\n\\n4. **Scoring**: Teams earn points for each correct answer, and the team with the most points at the end of the quiz wins. In case of ties, there might be tie-breaker questions or rounds.\\n\\n5. **Prizes**: Prizes vary but may include cash, bar tabs, free drinks, or other merchandise. Some quizzes may offer bragging rights or trophies.\\n\\n6. **Regular Events**: Many pubs host quizzes on a regular basis, such as weekly or monthly. This consistency helps build a community of regular participants.\\n\\n7. **Themes**: Occasionally, pub quizzes are themed around specific subjects such as movies, TV shows, holidays, or particular decades. These themed quizzes can attract niche audiences and add variety to regular quiz offerings.\\n\\n8. **Social and Educational**: Pub quizzes are not only a fun way to socialize but also a great way to learn new facts and trivia. They encourage teamwork, communication, and friendly competition.\\n\\nPub quizzes have become a staple of pub culture, providing a blend of entertainment and education in a relaxed and convivial setting. Many people attend regularly as a form of leisure and mental exercise.', additional_kwargs={'refusal': None}, response_metadata={'token_usage': {'completion_tokens': 443, 'prompt_tokens': 16, 'total_tokens': 459, 'completion_tokens_details': {'accepted_prediction_tokens': 0, 'audio_tokens': 0, 'reasoning_tokens': 0, 'rejected_prediction_tokens': 0}, 'prompt_tokens_details': {'audio_tokens': 0, 'cached_tokens': 0}}, 'model_name': 'gpt-4o-2024-05-13', 'system_fingerprint': 'fp_b705f0c291', 'prompt_filter_results': [{'prompt_index': 0, 'content_filter_results': {'hate': {'filtered': False, 'severity': 'safe'}, 'jailbreak': {'filtered': False, 'detected': False}, 'self_harm': {'filtered': False, 'severity': 'safe'}, 'sexual': {'filtered': False, 'severity': 'safe'}, 'violence': {'filtered': False, 'severity': 'safe'}}}], 'finish_reason': 'stop', 'logprobs': None, 'content_filter_results': {'hate': {'filtered': False, 'severity': 'safe'}, 'protected_material_code': {'filtered': False, 'detected': False}, 'protected_material_text': {'filtered': False, 'detected': False}, 'self_harm': {'filtered': False, 'severity': 'safe'}, 'sexual': {'filtered': False, 'severity': 'safe'}, 'violence': {'filtered': False, 'severity': 'safe'}}}, id='run-0d776c3b-0c3c-4f14-acc8-c34c1b27d176-0', usage_metadata={'input_tokens': 16, 'output_tokens': 443, 'total_tokens': 459, 'input_token_details': {'audio': 0, 'cache_read': 0}, 'output_token_details': {'audio': 0, 'reasoning': 0}})"
      ]
     },
     "execution_count": 6,
     "metadata": {},
     "output_type": "execute_result"
    }
   ],
   "source": [
    "# invoke llm\n",
    "\n",
    "llm.invoke(\"What do you know about Pub Quizzes?\")"
   ]
  },
  {
   "cell_type": "code",
   "execution_count": 7,
   "metadata": {},
   "outputs": [
    {
     "name": "stdout",
     "output_type": "stream",
     "text": [
      "Pub quizzes are a popular form of entertainment found in pubs and bars, predominantly in the United Kingdom but increasingly around the world. These quizzes typically involve patrons forming teams and competing in a series of trivia questions for prizes or bragging rights. Here are some key points about pub quizzes:\n",
      "\n",
      "### Structure:\n",
      "1. **Teams**: Participants usually form teams, which can range from just a couple of people to larger groups, depending on the rules set by the pub.\n",
      "2. **Rounds**: A pub quiz is typically divided into several rounds, each focusing on different topics. Common rounds include general knowledge, current events, music, sports, and themed rounds (e.g., movies, geography).\n",
      "3. **Question Format**: Questions can be presented in various formats, such as multiple choice, true or false, picture rounds, or open-ended questions.\n",
      "\n",
      "### Quizmaster:\n",
      "- The quizmaster is responsible for creating the questions, hosting the event, and ensuring fair play. They might also provide clues or hints and might incorporate humor to keep the atmosphere lively.\n",
      "\n",
      "### Timing:\n",
      "- Quizzes usually have a set duration for each round, and the entire quiz event typically lasts between one to two hours.\n",
      "\n",
      "### Prizes:\n",
      "- Prizes can range from bar tabs, free drinks, or food, to cash prizes or branded merchandise. They are usually awarded to the top-performing teams, but some quizzes also have prizes for the best team name or other creative categories.\n",
      "\n",
      "### Technology:\n",
      "- Some pub quizzes have embraced technology, using smartphone apps to submit answers, show multimedia questions, or to integrate real-time scoring systems.\n",
      "\n",
      "### Community and Social Aspect:\n",
      "- Pub quizzes are often highly social events, encouraging camaraderie among team members and friendly competition between teams. They can also attract regular attendees, fostering a sense of community within the pub.\n",
      "\n",
      "### Themes and Special Events:\n",
      "- Some pub quizzes are themed around specific topics like a popular TV show, a holiday (e.g., Christmas or Halloween), or a particular era (e.g., the 1980s). These can draw in larger crowds and add variety to the regular quiz format.\n",
      "\n",
      "### Popularity:\n",
      "- The tradition of pub quizzes has significantly grown since it is an enjoyable way for people to gather, socialize, and challenge their knowledge. Many pubs have regular quiz nights, often on quieter weekday evenings to boost attendance.\n",
      "\n",
      "Overall, pub quizzes offer a blend of challenge, entertainment, and social interaction, making them a beloved pastime for many pub-goers.\n"
     ]
    }
   ],
   "source": [
    "# invoke llm\n",
    "\n",
    "answer = llm.invoke(\"What do you know about Pub Quizzes?\")\n",
    "print(answer.content)"
   ]
  },
  {
   "cell_type": "code",
   "execution_count": 8,
   "metadata": {},
   "outputs": [
    {
     "name": "stdout",
     "output_type": "stream",
     "text": [
      "Pub quizzes, also known as quiz nights or trivia nights, are informal gatherings where participants engage in trying to answer questions on a wide range of subjects. These events typically take place in pubs, bars, or similar establishments, and they can have both competitive and social components. Participants usually form teams, and a quizmaster or host asks the questions, which can cover topics such as general knowledge, history, sports, entertainment, science, and more.\n",
      "\n",
      "The structure of pub quizzes can vary, but they often consist of several rounds, each with a different theme or topic. Points are awarded for correct answers, and the team with the most points at the end of the night is declared the winner. Prizes can range from free drinks or meals to cash rewards or other gifts.\n",
      "\n",
      "Pub quizzes have become a popular social event because they combine elements of fun, teamwork, and intellectual challenge, making them an enjoyable activity for individuals and groups alike.\n"
     ]
    }
   ],
   "source": [
    "# use prompts\n",
    "\n",
    "from langchain.prompts import ChatPromptTemplate\n",
    "\n",
    "prompt = ChatPromptTemplate.from_template(\"\"\"You are an encyclopedia.\n",
    "\n",
    "Question: {input}\"\"\")\n",
    "\n",
    "chain = prompt | llm\n",
    "\n",
    "answer = chain.invoke({\"input\": \"What are Pub Quizzes?\"})\n",
    "print(answer.content)"
   ]
  },
  {
   "cell_type": "code",
   "execution_count": 9,
   "metadata": {},
   "outputs": [
    {
     "name": "stdout",
     "output_type": "stream",
     "text": [
      "Pub quizzes are also commonly called \"table quizzes\" or \"quiz nights.\"\n"
     ]
    }
   ],
   "source": [
    "# reusue prompts\n",
    "\n",
    "answer = chain.invoke({\"input\": \"What are Pub Quizzes also called?\"})\n",
    "print(answer.content)\n",
    "\n"
   ]
  },
  {
   "cell_type": "code",
   "execution_count": 10,
   "metadata": {},
   "outputs": [
    {
     "name": "stdout",
     "output_type": "stream",
     "text": [
      "\n",
      "\n",
      "Pub\n",
      " quizzes\n",
      " are\n",
      " also\n",
      " commonly\n",
      " known\n",
      " as\n",
      " \"\n",
      "quiz\n",
      " nights\n",
      "\"\n",
      " or\n",
      " \"\n",
      "tr\n",
      "ivia\n",
      " nights\n",
      ".\"\n",
      " They\n",
      " are\n",
      " social\n",
      " events\n",
      " typically\n",
      " held\n",
      " in\n",
      " pubs\n",
      " or\n",
      " bars\n",
      " where\n",
      " teams\n",
      " compete\n",
      " to\n",
      " answer\n",
      " general\n",
      " knowledge\n",
      " questions\n",
      ",\n",
      " often\n",
      " across\n",
      " a\n",
      " variety\n",
      " of\n",
      " topics\n",
      ",\n",
      " and\n",
      " the\n",
      " team\n",
      " with\n",
      " the\n",
      " most\n",
      " correct\n",
      " answers\n",
      " wins\n",
      " a\n",
      " prize\n",
      ".\n",
      "\n"
     ]
    }
   ],
   "source": [
    "# stream\n",
    "\n",
    "for token in chain.stream({\"input\": \"What are Pub Quizzes also called?\"}):\n",
    "    print(token.content)"
   ]
  },
  {
   "cell_type": "code",
   "execution_count": 11,
   "metadata": {},
   "outputs": [
    {
     "name": "stdout",
     "output_type": "stream",
     "text": [
      "Pub quizzes are also called quiz nights, trivia nights, or bar trivia.\n"
     ]
    }
   ],
   "source": [
    "# contexts\n",
    "\n",
    "prompt = ChatPromptTemplate.from_template(\"\"\"Answer the following question based only on the provided context:\n",
    "\n",
    "<context>\n",
    "{context}\n",
    "</context>\n",
    "\n",
    "Question: {input}\"\"\")\n",
    "\n",
    "chain = prompt | llm\n",
    "\n",
    "answer = chain.invoke(\n",
    "    {\n",
    "        \"input\": \"What are Pub Quizzes also called?\",\n",
    "        \"context\": \"A pub quiz is a quiz held in a pub or bar. These events are also called quiz nights,[1] trivia nights,[2] or bar trivia[3] and may be held in other settings. The pub quiz is a modern example of a pub game, and often attempts to lure customers to the establishment on quieter days. The pub quiz has become part of British culture since its popularization in the UK in the 1970s by Burns and Porter, although the first mentions in print can be traced to 1959.[4][5] It then became a staple in Irish pub culture, and its popularity has continued to spread internationally. Although different pub quizzes can cover a range of formats and topics, they have many features in common. Most quizzes have a limited number of team members, offer prizes for winning teams, and distinguish rounds by category or theme.\",\n",
    "    }\n",
    ")\n",
    "print(answer.content)"
   ]
  },
  {
   "cell_type": "code",
   "execution_count": 12,
   "metadata": {},
   "outputs": [
    {
     "name": "stdout",
     "output_type": "stream",
     "text": [
      "Pub quizzes are also called quiz nights, trivia nights, or bar trivia.\n"
     ]
    }
   ],
   "source": [
    "# documents\n",
    "\n",
    "from langchain_core.documents import Document\n",
    "from langchain.chains.combine_documents import create_stuff_documents_chain\n",
    "\n",
    "\n",
    "documents = [\n",
    "    Document(\n",
    "        page_content=\"A pub quiz is a quiz held in a pub or bar. These events are also called quiz nights,[1] trivia nights,[2] or bar trivia[3] and may be held in other settings. The pub quiz is a modern example of a pub game, and often attempts to lure customers to the establishment on quieter days. The pub quiz has become part of British culture since its popularization in the UK in the 1970s by Burns and Porter, although the first mentions in print can be traced to 1959.[4][5] It then became a staple in Irish pub culture, and its popularity has continued to spread internationally. Although different pub quizzes can cover a range of formats and topics, they have many features in common. Most quizzes have a limited number of team members, offer prizes for winning teams, and distinguish rounds by category or theme.\",\n",
    "        metadata={\n",
    "            \"source\": \"wikipedia\"\n",
    "        }\n",
    "    )\n",
    "]\n",
    "\n",
    "document_chain = create_stuff_documents_chain(\n",
    "    llm=llm,\n",
    "    prompt=prompt\n",
    ")\n",
    "\n",
    "answer = document_chain.invoke(\n",
    "    {\n",
    "        \"input\": \"What are Pub Quizzes also called?\",\n",
    "        \"context\": documents,\n",
    "    }\n",
    ")\n",
    "print(answer)"
   ]
  },
  {
   "cell_type": "code",
   "execution_count": 13,
   "metadata": {},
   "outputs": [
    {
     "name": "stdout",
     "output_type": "stream",
     "text": [
      "Pub quizzes are also called quiz nights, trivia nights, or bar trivia. This information is sourced from the provided context.\n"
     ]
    }
   ],
   "source": [
    "answer = document_chain.invoke(\n",
    "    {\n",
    "        \"input\": \"What are Pub Quizzes also called and what is the source?\",\n",
    "        \"context\": documents,\n",
    "    }\n",
    ")\n",
    "print(answer)"
   ]
  },
  {
   "cell_type": "code",
   "execution_count": 14,
   "metadata": {},
   "outputs": [
    {
     "name": "stdout",
     "output_type": "stream",
     "text": [
      "Pub quizzes are also called quiz nights, trivia nights, or bar trivia. The source is Wikipedia.\n"
     ]
    }
   ],
   "source": [
    "# document prompts\n",
    "\n",
    "document_prompt = ChatPromptTemplate.from_template(\"\"\"Content: {page_content}                             \n",
    "Source: {source}\"\"\")\n",
    "\n",
    "document_chain = create_stuff_documents_chain(\n",
    "    llm=llm,\n",
    "    prompt=prompt,\n",
    "    document_prompt=document_prompt,\n",
    ")\n",
    "\n",
    "answer = document_chain.invoke(\n",
    "    {\n",
    "        \"input\": \"What are Pub Quizzes also called and what is the source?\",\n",
    "        \"context\": documents,\n",
    "    }\n",
    ")\n",
    "print(answer)"
   ]
  },
  {
   "cell_type": "code",
   "execution_count": 15,
   "metadata": {},
   "outputs": [
    {
     "data": {
      "text/plain": [
       "['Pub quiz',\n",
       " \"Jay's Virtual Pub Quiz\",\n",
       " 'The Big Fat Quiz of the Year',\n",
       " 'Pub',\n",
       " \"Al Murray's Great British Pub Quiz\",\n",
       " 'Quiz',\n",
       " 'Sporcle',\n",
       " 'Mark Labbett',\n",
       " 'Paul Sinha',\n",
       " 'Al Murray']"
      ]
     },
     "execution_count": 15,
     "metadata": {},
     "output_type": "execute_result"
    }
   ],
   "source": [
    "import wikipedia\n",
    "\n",
    "wikipedia.search(\"Pub Quiz\")"
   ]
  },
  {
   "cell_type": "code",
   "execution_count": 16,
   "metadata": {},
   "outputs": [
    {
     "data": {
      "text/plain": [
       "'A pub quiz is a quiz held in a pub or bar. These events are also called quiz nights, trivia nights, or bar trivia and may be held in other settings. The pub quiz is a modern example of a pub game, and often attempts to lure customers to the establishment on quieter days. The pub quiz has become part of British culture since its popularization in the UK in the 1970s by Burns and Porter, although the first mentions in print can be traced to 1959. It then became a staple in Irish pub culture, and its popularity has continued to spread internationally. Although different pub quizzes can cover a range of formats and topics, they have many features in common. Most quizzes have a limited number of team members, offer prizes for winning teams, and distinguish rounds by category or theme.\\n\\n\\n== History ==\\nThe origins of the pub quiz are relatively unknown. \\nIn 1946, a night in Yorkshire is mentioned in the Guinness Book of Records.\\nIn the late-1950s in Merseyside and Lancashire, \"about 4,000 people became involved in the organised quiz leagues that sprang up from Bootle to Southport\".\\nOn 30 October 1963, The Liverpool Echo carried an interview with Jack Robinson, \"on the Merseyside quiz scene since it started\".\\nIn 1976, Sharon Burns and Tom Porter founded and organised 32 pub quiz teams in three leagues in southern England. The goal was to attract people to pubs on quieter, “off” nights. From the time Burns and Porter began their weekly quiz in the 1970s, popularity grew over the next few years from just 30 teams to 10,000 teams in their weekly events.\\n\\n\\n== Format ==\\nPub quizzes (also known as live trivia, or table quizzes) are often weekly events and will have an advertised start time, most often in the evening.\\nWhile specific formats vary, most pub quizzes involve written answers to questions which are distributed in written form or announced by a quizmaster.\\nOne format for quizzing is called \"infinite bounce\" or “infinite rebounds”. Infinite bounce is often used to accommodate large numbers of teams. One question is addressed to each team in subsequent order. If one team fails to answer, the question passed along to the following team. Quizzes may also employ the “pounce” strategy. Here, a time limit is introduced and if the team under questioning fails to answer, any team may “pounce” and offer the answer.\\nGenerally someone (either one of the bar staff or the person running the quiz) will come around with pens and quiz papers, which may contain questions or may just be blank sheets for writing the answers. A mixture of both is common, in which case often only the blank sheet is to be handed in. Usually a team hands their answers in for marking to the quizmaster or to the next team along.\\n\\n\\n=== Teams ===\\nIt is up to the quizzers to form teams, which are generally based on tables, though if one table has a large group around it they may decide to split up. Some pubs insist on a maximum team size (usually between six and ten). The team members decide on a team name, often a supposedly humorous phrase or pun, which must be written on all papers handed in.\\nThere is often a small buy-in for the quiz that contributes to the winning pot at the end of the night. Many pub quizzes require no payment at all, as the event is simply a way to get paying customers into the venue, typically on less busy nights of the week.\\n\\n\\n=== Questions ===\\nThe person asking the questions is known as the quizmaster or quiz host. Quiz hosts often also mark and score answers submitted by teams, although sometimes teams will mark each other\\'s answer sheets.\\nThe questions can be set by the bar staff or landlord, by a third-party who may also supply the host, or by volunteers from amongst the contestants. In the latter case, the quiz setter may be remunerated with drinks or a small amount of money.\\nOften questions may be drawn from the realm of \\'everybody knows\\' trivia, sometimes leading to controversies when the answers are false or unverifiable. Generally, specialist companies will have proof read and verified answers prior to supply, avoiding such issues. In addition, as the quizzes are not formal affairs, slight errors in wording may lead to confusion and have led to a 2005 court case in the UK.\\n\\n\\n=== Rounds ===\\nThere are typically between 1-6 rounds of questions, ranging from 10 to upwards of 80 questions. Rounds may include the following themes (in order of popularity):\\n\\nFactual rounds – these are usually spoken, either over a public address system or just called out.  Common topics include:\\nGeneral knowledge – covering topics such as history, geography and science and nature. There may well be more than one of these rounds.\\nSport – comprising the statistics and minutiae of both well-known and obscure sports.\\nEntertainment – general pop culture, including movies, TV shows and music (see also below).\\nTrue or False – questions to which the answer is True or False.\\nPicture round – these use printed hand-outs or televised images consisting of pictures to be identified. These rounds may use photos of famous people (possibly snapped out of context or else partially obscured), logos of companies (without tell-tale lettering), famous places or objects captured from a strange angle. Usually these rounds are completed across the duration of the quiz with a hive of activity at the start, to keep guests entertained during breaks between rounds; and are marked halfway through.\\nWho Am I? – A series of clues to the identity of a famous person (or thing). Clues are given in order of descending difficulty. The earlier a team can identify the correct answer, the more points they are awarded.\\nMusic round – these consist of excerpts (often only the intro or other non-vocal segment) of songs played over the PA system. Usually the teams must identify the song, artist, and/or the year the song was released. Variations include the use of film and TV soundtracks, or classical music rounds (requiring the composer, title, and/or style). This round may be dependent on proper licensing from performers rights organizations.\\nAudio round – similar to music rounds, but sound clips are played from movies, television shows, YouTube videos, etc.\\nYear rounds — these rounds list important, historic events and offer points for correctly identifying the year in which they took place.\\nPuzzle rounds – generally on a hand-out sheet. These may consist of crossword puzzles, anagrams, Ditloids, Dingbats and basic mathematics problems.\\nNovelty rounds – themed round a specific word or name (e.g. all the questions relate to a famous Norman); \\'connections\\', where the last answer in the round provides a link to all the previous answers; true or false; and various others to break up the general stream of questions.\\nBeyond these standard rounds, themes and variety are only limited by the quizmaster’s creativity. Rounds can involve any number of bizarre and random topics, varying in difficulty and subject matter.\\n\\n\\n=== Bonus rounds ===\\nIn some quizzes, teams can select one or two rounds as \"jokers\", in which their points will be doubled (or otherwise multiplied). Teams usually select their joker rounds before the start of the quiz, although some rounds may be excluded. Teams who consider themselves to be particularly strong on certain subjects can improve their chances with a good joker round, but risk wasting the joker if the questions are unexpectedly difficult. The idea of using a joker in a game may come from the BBC television programme  It\\'s a Knockout.\\nSome quizzes include a bonus question, in which a single answer is required with one or more clues given each round making the answer progressively easier to solve. In some variants, the first team to hand in the correct answer wins either a spot prize or additional points to their total score. In others, the questions continue until all teams have the correct answer with each team being given progressively fewer additional points the longer it takes them to submit the correct answer.\\n\\n\\n=== Jackpots ===\\nSome quizzes add a small, separate round of questions to the end of a regular quiz, with the chance to win a jackpot. Each week an amount of money is added to the jackpot, and if no team answers the questions correctly, the money rolls over to the next quiz. The maximum amount of the jackpot may be limited by local gaming regulations.\\nCash jackpots may be won by a variety of methods including one-off questions and dance-offs.\\n\\n\\n=== Marking ===\\nIn many cases, the papers are marked by the quiz host. An alternative method is to have teams swap papers before marking, though this is typically employed for larger numbers of teams. Generally, teams will not mark their own answers to avoid accusations of cheating.\\nTypically, each correct answer awards one point, though some questions may offer multiple points for their respective answers. Certain quizzes allow half marks for \"nearly right\" answers (such as a celebrity\\'s surname when their full name was required), or there may be additional points for particularly difficult questions.\\n\\n\\n=== Cheating ===\\nWith the mass use of mobile phones and mobile internet access, cheating has become a problem for some pub quizzes — covert calls, texts and internet use in the toilets or outside smoking area, recent newspapers and magazines brought along especially for the event, ringers and so on. Another form of cheating is seen in large groups posing as multiple teams. Most quizzes set a limit on team members to prevent large numbers of people collaborating but this problem is difficult to regulate. A lot of quizzes now ban the use of mobiles and nullify the score of any team found to be cheating. While this issue is more prevalent where large sums of money are concerned, cheating can still be observed for relatively low stakes.  \\nA modern solution to prevent the use of mobile phones is to host the quiz on a mobile quiz app that can detect when the user has left the app. Apps such as Speedquizzing gives bonus points to the quiz team which answers the question fastest and sets a time limit in which you can answer the question, thereby negatively impacting those who attempt to search it online.\\n\\n\\n=== Prizes ===\\nPrizes are awarded to the highest-scoring team, and often to runners-up. Prizes are usually one of the following:\\n\\nAlcoholic drinks: a case of beer or some money on a bar tab to spend at that pub are common.\\nCash: if there is an entry fee for the quiz, this is often pooled to form prize money. This may all go to the winning team or contribute toward the ‘jackpot’ (see above).\\nVouchers: such as cinema discount coupons, food discounts, or drink vouchers for use at the bar holding the quiz.\\nPromotional items from a brewery: merchandise such as t-shirts or beer glasses advertising the establishment.\\nMiscellaneous or novelty prizes: possibilities include chocolate or cheap toys. The winning team may get first choice to pick a prize from a range on offer.\\nOccasionally after the main rounds a low-stakes raffle is brought around, for which players pay a small additional fee, to fill time whilst scores are totted up.\\n\\n\\n== Technology ==\\nIn a digital pub quiz, wireless handsets replace the more usual pen and paper. A computer receives and records the answers from each team\\'s handset and the results are exported to a spreadsheet at the end of the quiz. A time limit can be set for each question (e.g. 60 seconds) and it is possible to determine which team answers in the fastest time for spot prizes and tiebreaks. The visual rounds may also use TV screens around the bar to broadcast the clues.\\nFounded in 1984. NTN Buzztime was the first company to create and distribute pub quiz software systems to bars and restaurants in 1987.\\n\\n\\n== Commercial projects ==\\nAs the pub quiz concept spread to the US in the 1990s, several companies formed to provide services to bars and restaurants organizing quizzes.  Different from the quiz league in the UK, US commercial pub quizzes typically involve more than just two teams and can have as many as 25–35 teams playing in a single location, with up to 6 people per team.  Quiz companies charge bars a fee for hosting the quiz, which may range from $80 per week to $175 or more depending on attendance.  At least 20 different pub quiz companies currently exist in the US, with most operating events concentrated in major metropolitan areas.\\n\\n\\n== Leagues and competitions ==\\n\\nA quiz league is an organization that runs quizzes—typically in pubs—though with several distinctions from the standard pub quiz. They often involve only two teams and include a number of individual questions. Prizes are uncommon at a league match, aside from congratulatory kudos to the quiz team winning a league or a knockout competition. \\nThere are additionally non-pub-based leagues, where teams from throughout a region, county, state or country meet annually for more prestigious competitions, with greater prizes. Representative teams may either be the best team from each pub or a team selected from the best individuals.\\nInternationally, Believe it or Not Quiz Events in New Zealand have held an annual Champion of Champions quiz in Auckland since 1998 [SOURCE]. Initially open to teams from pubs within the greater Auckland region, it is now open to teams from throughout New Zealand. In practice, travel costs prevent most teams from the lower North Island and the South Island participating, although Christchurch, Nelson and Wellington have all provided teams.\\nThe Australasian Pub Quiz Championships has taken place annually since 2018. Open to teams from pubs and clubs from across Australia and New Zealand, the 2018 Championships is simultaneously run in Sydney, Canberra, and Wellington in late April.\\nThe United States National Trivia Association presents \"The Riddle\", a finals event open to eligible teams who play the official NTA \"Quizzo!\" live trivia game. Approximately a thousand players attended the 2008 event in Atlantic City, New Jersey.\\nSporcle runs the Pub Champions Trivia League, which hosts regional, state, and national tournaments. Their league championships are primarily based in the midwest United States. [18]\\n\\n\\n== World record ==\\nThe Guinness World Records lists the \"Largest Pub Quiz\" to a virtual quiz hosted by Jay Flynn of the UK, on April 30, 2022, with over 182,000 participating households.\\n\\n\\n== In popular culture ==\\nPub quizzes have appeared in the British sitcoms Minder, Bottom, Gavin & Stacey, The Office and Early Doors, amongst others.\\nA January 2013 episode of Anger Management features Charlie Sheen\\'s character involved in a game of bar trivia.\\nThe New Zealand television drama Nothing Trivial centres around five characters who meet regularly at a pub quiz.\\nThe ITV game show Quiz Night with Stuart Hall was based on this concept.  The set on which the show took place had a bar theme to it; contestants and the host even drank beer while doing the show.\\nThe Irish television drama Trivia from 2011 to 2012 focuses on the captain of a pub quiz team.\\n\\n\\n== Regional ==\\n\\n\\n=== United States ===\\nIn Philadelphia, many bars, specifically those owned by Irish-Americans, will have \"Quizzo\" nights.\\nTrivia nights are sometimes used as fundraisers for nonprofit organizations, and these are very common in the Greater St. Louis area. A trivia radio show was popular in the 1970s and trivia night as fundraiser became popular after introduction by an Australian immigrant couple in the early 1980s.\\n\\n\\n== See also ==\\n\\nDrinking culture\\nPuzzled Pint – International social event\\nQuizbowl – Academic quiz-based competitionPages displaying short descriptions of redirect targets\\nQuiz league – Organised quizzing format\\nList of public house topics\\n\\n\\n== References ==\\n\\n\\n== Further reading ==\\nWeaver, M. (2023, February 5). Where did pub quizzes originate?. Power Pub Quiz. Where did pub quizzes originate?. Retrieved 2023-05-01\\nParikh, H. (2009, September 5). Pounce and bounce. Pounce and Bounce. http://notesandstones.blogspot.com/2009/09/pounce-and-bounce.html. Retrieved 2023-04-30\\nBurns and Porter Associates. (1987). The Pub Quiz Book (Vol. 1). Corgi Childrens. Retrieved 2023-04-30\\nPub Champions Trivia League Championships: Sporcle Blog. The Sporcle Blog. (2019, May 20). https://www.sporcle.com/blog/pub-champions-trivia-league-championships/ Retrieved 2023-04-30\\nPub quiz host sets new YouTube Live Stream record. Guinness World Records. (2020, May 14). https://www.guinnessworldrecords.com/news/2020/5/pub-quiz-host-sets-new-youtube-live-stream-record-617392.'"
      ]
     },
     "execution_count": 16,
     "metadata": {},
     "output_type": "execute_result"
    }
   ],
   "source": [
    "wikipedia.page(\"Pub Quiz\").content"
   ]
  },
  {
   "cell_type": "code",
   "execution_count": 17,
   "metadata": {},
   "outputs": [
    {
     "data": {
      "text/plain": [
       "{'input': 'What are Pub Quizzes also called and what is the source?',\n",
       " 'context': [Document(metadata={'source': 'wikipedia'}, page_content='A pub quiz is a quiz held in a pub or bar. These events are also called quiz nights, trivia nights, or bar trivia and may be held in other settings. The pub quiz is a modern example of a pub game, and often attempts to lure customers to the establishment on quieter days. The pub quiz has become part of British culture since its popularization in the UK in the 1970s by Burns and Porter, although the first mentions in print can be traced to 1959. It then became a staple in Irish pub culture, and its popularity has continued to spread internationally. Although different pub quizzes can cover a range of formats and topics, they have many features in common. Most quizzes have a limited number of team members, offer prizes for winning teams, and distinguish rounds by category or theme.\\n\\n\\n== History ==\\nThe origins of the pub quiz are relatively unknown. \\nIn 1946, a night in Yorkshire is mentioned in the Guinness Book of Records.\\nIn the late-1950s in Merseyside and Lancashire, \"about 4,000 people became involved in the organised quiz leagues that sprang up from Bootle to Southport\".\\nOn 30 October 1963, The Liverpool Echo carried an interview with Jack Robinson, \"on the Merseyside quiz scene since it started\".\\nIn 1976, Sharon Burns and Tom Porter founded and organised 32 pub quiz teams in three leagues in southern England. The goal was to attract people to pubs on quieter, “off” nights. From the time Burns and Porter began their weekly quiz in the 1970s, popularity grew over the next few years from just 30 teams to 10,000 teams in their weekly events.\\n\\n\\n== Format ==\\nPub quizzes (also known as live trivia, or table quizzes) are often weekly events and will have an advertised start time, most often in the evening.\\nWhile specific formats vary, most pub quizzes involve written answers to questions which are distributed in written form or announced by a quizmaster.\\nOne format for quizzing is called \"infinite bounce\" or “infinite rebounds”. Infinite bounce is often used to accommodate large numbers of teams. One question is addressed to each team in subsequent order. If one team fails to answer, the question passed along to the following team. Quizzes may also employ the “pounce” strategy. Here, a time limit is introduced and if the team under questioning fails to answer, any team may “pounce” and offer the answer.\\nGenerally someone (either one of the bar staff or the person running the quiz) will come around with pens and quiz papers, which may contain questions or may just be blank sheets for writing the answers. A mixture of both is common, in which case often only the blank sheet is to be handed in. Usually a team hands their answers in for marking to the quizmaster or to the next team along.\\n\\n\\n=== Teams ===\\nIt is up to the quizzers to form teams, which are generally based on tables, though if one table has a large group around it they may decide to split up. Some pubs insist on a maximum team size (usually between six and ten). The team members decide on a team name, often a supposedly humorous phrase or pun, which must be written on all papers handed in.\\nThere is often a small buy-in for the quiz that contributes to the winning pot at the end of the night. Many pub quizzes require no payment at all, as the event is simply a way to get paying customers into the venue, typically on less busy nights of the week.\\n\\n\\n=== Questions ===\\nThe person asking the questions is known as the quizmaster or quiz host. Quiz hosts often also mark and score answers submitted by teams, although sometimes teams will mark each other\\'s answer sheets.\\nThe questions can be set by the bar staff or landlord, by a third-party who may also supply the host, or by volunteers from amongst the contestants. In the latter case, the quiz setter may be remunerated with drinks or a small amount of money.\\nOften questions may be drawn from the realm of \\'everybody knows\\' trivia, sometimes leading to controversies when the answers are false or unverifiable. Generally, specialist companies will have proof read and verified answers prior to supply, avoiding such issues. In addition, as the quizzes are not formal affairs, slight errors in wording may lead to confusion and have led to a 2005 court case in the UK.\\n\\n\\n=== Rounds ===\\nThere are typically between 1-6 rounds of questions, ranging from 10 to upwards of 80 questions. Rounds may include the following themes (in order of popularity):\\n\\nFactual rounds – these are usually spoken, either over a public address system or just called out.  Common topics include:\\nGeneral knowledge – covering topics such as history, geography and science and nature. There may well be more than one of these rounds.\\nSport – comprising the statistics and minutiae of both well-known and obscure sports.\\nEntertainment – general pop culture, including movies, TV shows and music (see also below).\\nTrue or False – questions to which the answer is True or False.\\nPicture round – these use printed hand-outs or televised images consisting of pictures to be identified. These rounds may use photos of famous people (possibly snapped out of context or else partially obscured), logos of companies (without tell-tale lettering), famous places or objects captured from a strange angle. Usually these rounds are completed across the duration of the quiz with a hive of activity at the start, to keep guests entertained during breaks between rounds; and are marked halfway through.\\nWho Am I? – A series of clues to the identity of a famous person (or thing). Clues are given in order of descending difficulty. The earlier a team can identify the correct answer, the more points they are awarded.\\nMusic round – these consist of excerpts (often only the intro or other non-vocal segment) of songs played over the PA system. Usually the teams must identify the song, artist, and/or the year the song was released. Variations include the use of film and TV soundtracks, or classical music rounds (requiring the composer, title, and/or style). This round may be dependent on proper licensing from performers rights organizations.\\nAudio round – similar to music rounds, but sound clips are played from movies, television shows, YouTube videos, etc.\\nYear rounds — these rounds list important, historic events and offer points for correctly identifying the year in which they took place.\\nPuzzle rounds – generally on a hand-out sheet. These may consist of crossword puzzles, anagrams, Ditloids, Dingbats and basic mathematics problems.\\nNovelty rounds – themed round a specific word or name (e.g. all the questions relate to a famous Norman); \\'connections\\', where the last answer in the round provides a link to all the previous answers; true or false; and various others to break up the general stream of questions.\\nBeyond these standard rounds, themes and variety are only limited by the quizmaster’s creativity. Rounds can involve any number of bizarre and random topics, varying in difficulty and subject matter.\\n\\n\\n=== Bonus rounds ===\\nIn some quizzes, teams can select one or two rounds as \"jokers\", in which their points will be doubled (or otherwise multiplied). Teams usually select their joker rounds before the start of the quiz, although some rounds may be excluded. Teams who consider themselves to be particularly strong on certain subjects can improve their chances with a good joker round, but risk wasting the joker if the questions are unexpectedly difficult. The idea of using a joker in a game may come from the BBC television programme  It\\'s a Knockout.\\nSome quizzes include a bonus question, in which a single answer is required with one or more clues given each round making the answer progressively easier to solve. In some variants, the first team to hand in the correct answer wins either a spot prize or additional points to their total score. In others, the questions continue until all teams have the correct answer with each team being given progressively fewer additional points the longer it takes them to submit the correct answer.\\n\\n\\n=== Jackpots ===\\nSome quizzes add a small, separate round of questions to the end of a regular quiz, with the chance to win a jackpot. Each week an amount of money is added to the jackpot, and if no team answers the questions correctly, the money rolls over to the next quiz. The maximum amount of the jackpot may be limited by local gaming regulations.\\nCash jackpots may be won by a variety of methods including one-off questions and dance-offs.\\n\\n\\n=== Marking ===\\nIn many cases, the papers are marked by the quiz host. An alternative method is to have teams swap papers before marking, though this is typically employed for larger numbers of teams. Generally, teams will not mark their own answers to avoid accusations of cheating.\\nTypically, each correct answer awards one point, though some questions may offer multiple points for their respective answers. Certain quizzes allow half marks for \"nearly right\" answers (such as a celebrity\\'s surname when their full name was required), or there may be additional points for particularly difficult questions.\\n\\n\\n=== Cheating ===\\nWith the mass use of mobile phones and mobile internet access, cheating has become a problem for some pub quizzes — covert calls, texts and internet use in the toilets or outside smoking area, recent newspapers and magazines brought along especially for the event, ringers and so on. Another form of cheating is seen in large groups posing as multiple teams. Most quizzes set a limit on team members to prevent large numbers of people collaborating but this problem is difficult to regulate. A lot of quizzes now ban the use of mobiles and nullify the score of any team found to be cheating. While this issue is more prevalent where large sums of money are concerned, cheating can still be observed for relatively low stakes.  \\nA modern solution to prevent the use of mobile phones is to host the quiz on a mobile quiz app that can detect when the user has left the app. Apps such as Speedquizzing gives bonus points to the quiz team which answers the question fastest and sets a time limit in which you can answer the question, thereby negatively impacting those who attempt to search it online.\\n\\n\\n=== Prizes ===\\nPrizes are awarded to the highest-scoring team, and often to runners-up. Prizes are usually one of the following:\\n\\nAlcoholic drinks: a case of beer or some money on a bar tab to spend at that pub are common.\\nCash: if there is an entry fee for the quiz, this is often pooled to form prize money. This may all go to the winning team or contribute toward the ‘jackpot’ (see above).\\nVouchers: such as cinema discount coupons, food discounts, or drink vouchers for use at the bar holding the quiz.\\nPromotional items from a brewery: merchandise such as t-shirts or beer glasses advertising the establishment.\\nMiscellaneous or novelty prizes: possibilities include chocolate or cheap toys. The winning team may get first choice to pick a prize from a range on offer.\\nOccasionally after the main rounds a low-stakes raffle is brought around, for which players pay a small additional fee, to fill time whilst scores are totted up.\\n\\n\\n== Technology ==\\nIn a digital pub quiz, wireless handsets replace the more usual pen and paper. A computer receives and records the answers from each team\\'s handset and the results are exported to a spreadsheet at the end of the quiz. A time limit can be set for each question (e.g. 60 seconds) and it is possible to determine which team answers in the fastest time for spot prizes and tiebreaks. The visual rounds may also use TV screens around the bar to broadcast the clues.\\nFounded in 1984. NTN Buzztime was the first company to create and distribute pub quiz software systems to bars and restaurants in 1987.\\n\\n\\n== Commercial projects ==\\nAs the pub quiz concept spread to the US in the 1990s, several companies formed to provide services to bars and restaurants organizing quizzes.  Different from the quiz league in the UK, US commercial pub quizzes typically involve more than just two teams and can have as many as 25–35 teams playing in a single location, with up to 6 people per team.  Quiz companies charge bars a fee for hosting the quiz, which may range from $80 per week to $175 or more depending on attendance.  At least 20 different pub quiz companies currently exist in the US, with most operating events concentrated in major metropolitan areas.\\n\\n\\n== Leagues and competitions ==\\n\\nA quiz league is an organization that runs quizzes—typically in pubs—though with several distinctions from the standard pub quiz. They often involve only two teams and include a number of individual questions. Prizes are uncommon at a league match, aside from congratulatory kudos to the quiz team winning a league or a knockout competition. \\nThere are additionally non-pub-based leagues, where teams from throughout a region, county, state or country meet annually for more prestigious competitions, with greater prizes. Representative teams may either be the best team from each pub or a team selected from the best individuals.\\nInternationally, Believe it or Not Quiz Events in New Zealand have held an annual Champion of Champions quiz in Auckland since 1998 [SOURCE]. Initially open to teams from pubs within the greater Auckland region, it is now open to teams from throughout New Zealand. In practice, travel costs prevent most teams from the lower North Island and the South Island participating, although Christchurch, Nelson and Wellington have all provided teams.\\nThe Australasian Pub Quiz Championships has taken place annually since 2018. Open to teams from pubs and clubs from across Australia and New Zealand, the 2018 Championships is simultaneously run in Sydney, Canberra, and Wellington in late April.\\nThe United States National Trivia Association presents \"The Riddle\", a finals event open to eligible teams who play the official NTA \"Quizzo!\" live trivia game. Approximately a thousand players attended the 2008 event in Atlantic City, New Jersey.\\nSporcle runs the Pub Champions Trivia League, which hosts regional, state, and national tournaments. Their league championships are primarily based in the midwest United States. [18]\\n\\n\\n== World record ==\\nThe Guinness World Records lists the \"Largest Pub Quiz\" to a virtual quiz hosted by Jay Flynn of the UK, on April 30, 2022, with over 182,000 participating households.\\n\\n\\n== In popular culture ==\\nPub quizzes have appeared in the British sitcoms Minder, Bottom, Gavin & Stacey, The Office and Early Doors, amongst others.\\nA January 2013 episode of Anger Management features Charlie Sheen\\'s character involved in a game of bar trivia.\\nThe New Zealand television drama Nothing Trivial centres around five characters who meet regularly at a pub quiz.\\nThe ITV game show Quiz Night with Stuart Hall was based on this concept.  The set on which the show took place had a bar theme to it; contestants and the host even drank beer while doing the show.\\nThe Irish television drama Trivia from 2011 to 2012 focuses on the captain of a pub quiz team.\\n\\n\\n== Regional ==\\n\\n\\n=== United States ===\\nIn Philadelphia, many bars, specifically those owned by Irish-Americans, will have \"Quizzo\" nights.\\nTrivia nights are sometimes used as fundraisers for nonprofit organizations, and these are very common in the Greater St. Louis area. A trivia radio show was popular in the 1970s and trivia night as fundraiser became popular after introduction by an Australian immigrant couple in the early 1980s.\\n\\n\\n== See also ==\\n\\nDrinking culture\\nPuzzled Pint – International social event\\nQuizbowl – Academic quiz-based competitionPages displaying short descriptions of redirect targets\\nQuiz league – Organised quizzing format\\nList of public house topics\\n\\n\\n== References ==\\n\\n\\n== Further reading ==\\nWeaver, M. (2023, February 5). Where did pub quizzes originate?. Power Pub Quiz. Where did pub quizzes originate?. Retrieved 2023-05-01\\nParikh, H. (2009, September 5). Pounce and bounce. Pounce and Bounce. http://notesandstones.blogspot.com/2009/09/pounce-and-bounce.html. Retrieved 2023-04-30\\nBurns and Porter Associates. (1987). The Pub Quiz Book (Vol. 1). Corgi Childrens. Retrieved 2023-04-30\\nPub Champions Trivia League Championships: Sporcle Blog. The Sporcle Blog. (2019, May 20). https://www.sporcle.com/blog/pub-champions-trivia-league-championships/ Retrieved 2023-04-30\\nPub quiz host sets new YouTube Live Stream record. Guinness World Records. (2020, May 14). https://www.guinnessworldrecords.com/news/2020/5/pub-quiz-host-sets-new-youtube-live-stream-record-617392.')],\n",
       " 'answer': 'Pub quizzes are also called quiz nights, trivia nights, or bar trivia. The source for this information is Wikipedia (as provided in the context).'}"
      ]
     },
     "execution_count": 17,
     "metadata": {},
     "output_type": "execute_result"
    }
   ],
   "source": [
    "from langchain.chains.retrieval import create_retrieval_chain\n",
    "from langchain_core.runnables import RunnableLambda\n",
    "\n",
    "def retrieve_wikipedia_page(input):\n",
    "    search = wikipedia.search(input[\"input\"])\n",
    "    if not search:\n",
    "        return []\n",
    "    page = wikipedia.page(search[0])\n",
    "    return [Document(\n",
    "        page_content=page.content,\n",
    "        metadata={\n",
    "            \"source\": \"wikipedia\"\n",
    "        }\n",
    "    )]\n",
    "\n",
    "runnable = RunnableLambda(retrieve_wikipedia_page)\n",
    "runnable.invoke({\"input\": \"Pub Quiz\"})\n",
    "\n",
    "chain = create_retrieval_chain(\n",
    "    runnable, document_chain\n",
    ")\n",
    "chain.invoke(\n",
    "    {\n",
    "        \"input\": \"What are Pub Quizzes also called and what is the source?\",\n",
    "    }\n",
    ")"
   ]
  },
  {
   "cell_type": "code",
   "execution_count": 18,
   "metadata": {},
   "outputs": [
    {
     "data": {
      "text/plain": [
       "{'input': 'What are Pub Quizzes also called and what is the source?',\n",
       " 'context': [Document(metadata={'source': 'wikipedia'}, page_content='A pub quiz is a quiz held in a pub or bar. These events are also called quiz nights, trivia nights, or bar trivia and may be held in other settings. The pub quiz is a modern example of a pub game, and often attempts to lure customers to the establishment on quieter days. The pub quiz has become part of British culture since its popularization in the UK in the 1970s by Burns and Porter, although the first mentions in print can be traced to 1959. It then became a staple in Irish pub culture, and its popularity has continued to spread internationally. Although different pub quizzes can cover a range of formats and topics, they have many features in common. Most quizzes have a limited number of team members, offer prizes for winning teams, and distinguish rounds by category or theme.\\n\\n\\n== History ==\\nThe origins of the pub quiz are relatively unknown. \\nIn 1946, a night in Yorkshire is mentioned in the Guinness Book of Records.\\nIn the late-1950s in Merseyside and Lancashire, \"about 4,000 people became involved in the organised quiz leagues that sprang up from Bootle to Southport\".\\nOn 30 October 1963, The Liverpool Echo carried an interview with Jack Robinson, \"on the Merseyside quiz scene since it started\".\\nIn 1976, Sharon Burns and Tom Porter founded and organised 32 pub quiz teams in three leagues in southern England. The goal was to attract people to pubs on quieter, “off” nights. From the time Burns and Porter began their weekly quiz in the 1970s, popularity grew over the next few years from just 30 teams to 10,000 teams in their weekly events.\\n\\n\\n== Format ==\\nPub quizzes (also known as live trivia, or table quizzes) are often weekly events and will have an advertised start time, most often in the evening.\\nWhile specific formats vary, most pub quizzes involve written answers to questions which are distributed in written form or announced by a quizmaster.\\nOne format for quizzing is called \"infinite bounce\" or “infinite rebounds”. Infinite bounce is often used to accommodate large numbers of teams. One question is addressed to each team in subsequent order. If one team fails to answer, the question passed along to the following team. Quizzes may also employ the “pounce” strategy. Here, a time limit is introduced and if the team under questioning fails to answer, any team may “pounce” and offer the answer.\\nGenerally someone (either one of the bar staff or the person running the quiz) will come around with pens and quiz papers, which may contain questions or may just be blank sheets for writing the answers. A mixture of both is common, in which case often only the blank sheet is to be handed in. Usually a team hands their answers in for marking to the quizmaster or to the next team along.\\n\\n\\n=== Teams ===\\nIt is up to the quizzers to form teams, which are generally based on tables, though if one table has a large group around it they may decide to split up. Some pubs insist on a maximum team size (usually between six and ten). The team members decide on a team name, often a supposedly humorous phrase or pun, which must be written on all papers handed in.\\nThere is often a small buy-in for the quiz that contributes to the winning pot at the end of the night. Many pub quizzes require no payment at all, as the event is simply a way to get paying customers into the venue, typically on less busy nights of the week.\\n\\n\\n=== Questions ===\\nThe person asking the questions is known as the quizmaster or quiz host. Quiz hosts often also mark and score answers submitted by teams, although sometimes teams will mark each other\\'s answer sheets.\\nThe questions can be set by the bar staff or landlord, by a third-party who may also supply the host, or by volunteers from amongst the contestants. In the latter case, the quiz setter may be remunerated with drinks or a small amount of money.\\nOften questions may be drawn from the realm of \\'everybody knows\\' trivia, sometimes leading to controversies when the answers are false or unverifiable. Generally, specialist companies will have proof read and verified answers prior to supply, avoiding such issues. In addition, as the quizzes are not formal affairs, slight errors in wording may lead to confusion and have led to a 2005 court case in the UK.\\n\\n\\n=== Rounds ===\\nThere are typically between 1-6 rounds of questions, ranging from 10 to upwards of 80 questions. Rounds may include the following themes (in order of popularity):\\n\\nFactual rounds – these are usually spoken, either over a public address system or just called out.  Common topics include:\\nGeneral knowledge – covering topics such as history, geography and science and nature. There may well be more than one of these rounds.\\nSport – comprising the statistics and minutiae of both well-known and obscure sports.\\nEntertainment – general pop culture, including movies, TV shows and music (see also below).\\nTrue or False – questions to which the answer is True or False.\\nPicture round – these use printed hand-outs or televised images consisting of pictures to be identified. These rounds may use photos of famous people (possibly snapped out of context or else partially obscured), logos of companies (without tell-tale lettering), famous places or objects captured from a strange angle. Usually these rounds are completed across the duration of the quiz with a hive of activity at the start, to keep guests entertained during breaks between rounds; and are marked halfway through.\\nWho Am I? – A series of clues to the identity of a famous person (or thing). Clues are given in order of descending difficulty. The earlier a team can identify the correct answer, the more points they are awarded.\\nMusic round – these consist of excerpts (often only the intro or other non-vocal segment) of songs played over the PA system. Usually the teams must identify the song, artist, and/or the year the song was released. Variations include the use of film and TV soundtracks, or classical music rounds (requiring the composer, title, and/or style). This round may be dependent on proper licensing from performers rights organizations.\\nAudio round – similar to music rounds, but sound clips are played from movies, television shows, YouTube videos, etc.\\nYear rounds — these rounds list important, historic events and offer points for correctly identifying the year in which they took place.\\nPuzzle rounds – generally on a hand-out sheet. These may consist of crossword puzzles, anagrams, Ditloids, Dingbats and basic mathematics problems.\\nNovelty rounds – themed round a specific word or name (e.g. all the questions relate to a famous Norman); \\'connections\\', where the last answer in the round provides a link to all the previous answers; true or false; and various others to break up the general stream of questions.\\nBeyond these standard rounds, themes and variety are only limited by the quizmaster’s creativity. Rounds can involve any number of bizarre and random topics, varying in difficulty and subject matter.\\n\\n\\n=== Bonus rounds ===\\nIn some quizzes, teams can select one or two rounds as \"jokers\", in which their points will be doubled (or otherwise multiplied). Teams usually select their joker rounds before the start of the quiz, although some rounds may be excluded. Teams who consider themselves to be particularly strong on certain subjects can improve their chances with a good joker round, but risk wasting the joker if the questions are unexpectedly difficult. The idea of using a joker in a game may come from the BBC television programme  It\\'s a Knockout.\\nSome quizzes include a bonus question, in which a single answer is required with one or more clues given each round making the answer progressively easier to solve. In some variants, the first team to hand in the correct answer wins either a spot prize or additional points to their total score. In others, the questions continue until all teams have the correct answer with each team being given progressively fewer additional points the longer it takes them to submit the correct answer.\\n\\n\\n=== Jackpots ===\\nSome quizzes add a small, separate round of questions to the end of a regular quiz, with the chance to win a jackpot. Each week an amount of money is added to the jackpot, and if no team answers the questions correctly, the money rolls over to the next quiz. The maximum amount of the jackpot may be limited by local gaming regulations.\\nCash jackpots may be won by a variety of methods including one-off questions and dance-offs.\\n\\n\\n=== Marking ===\\nIn many cases, the papers are marked by the quiz host. An alternative method is to have teams swap papers before marking, though this is typically employed for larger numbers of teams. Generally, teams will not mark their own answers to avoid accusations of cheating.\\nTypically, each correct answer awards one point, though some questions may offer multiple points for their respective answers. Certain quizzes allow half marks for \"nearly right\" answers (such as a celebrity\\'s surname when their full name was required), or there may be additional points for particularly difficult questions.\\n\\n\\n=== Cheating ===\\nWith the mass use of mobile phones and mobile internet access, cheating has become a problem for some pub quizzes — covert calls, texts and internet use in the toilets or outside smoking area, recent newspapers and magazines brought along especially for the event, ringers and so on. Another form of cheating is seen in large groups posing as multiple teams. Most quizzes set a limit on team members to prevent large numbers of people collaborating but this problem is difficult to regulate. A lot of quizzes now ban the use of mobiles and nullify the score of any team found to be cheating. While this issue is more prevalent where large sums of money are concerned, cheating can still be observed for relatively low stakes.  \\nA modern solution to prevent the use of mobile phones is to host the quiz on a mobile quiz app that can detect when the user has left the app. Apps such as Speedquizzing gives bonus points to the quiz team which answers the question fastest and sets a time limit in which you can answer the question, thereby negatively impacting those who attempt to search it online.\\n\\n\\n=== Prizes ===\\nPrizes are awarded to the highest-scoring team, and often to runners-up. Prizes are usually one of the following:\\n\\nAlcoholic drinks: a case of beer or some money on a bar tab to spend at that pub are common.\\nCash: if there is an entry fee for the quiz, this is often pooled to form prize money. This may all go to the winning team or contribute toward the ‘jackpot’ (see above).\\nVouchers: such as cinema discount coupons, food discounts, or drink vouchers for use at the bar holding the quiz.\\nPromotional items from a brewery: merchandise such as t-shirts or beer glasses advertising the establishment.\\nMiscellaneous or novelty prizes: possibilities include chocolate or cheap toys. The winning team may get first choice to pick a prize from a range on offer.\\nOccasionally after the main rounds a low-stakes raffle is brought around, for which players pay a small additional fee, to fill time whilst scores are totted up.\\n\\n\\n== Technology ==\\nIn a digital pub quiz, wireless handsets replace the more usual pen and paper. A computer receives and records the answers from each team\\'s handset and the results are exported to a spreadsheet at the end of the quiz. A time limit can be set for each question (e.g. 60 seconds) and it is possible to determine which team answers in the fastest time for spot prizes and tiebreaks. The visual rounds may also use TV screens around the bar to broadcast the clues.\\nFounded in 1984. NTN Buzztime was the first company to create and distribute pub quiz software systems to bars and restaurants in 1987.\\n\\n\\n== Commercial projects ==\\nAs the pub quiz concept spread to the US in the 1990s, several companies formed to provide services to bars and restaurants organizing quizzes.  Different from the quiz league in the UK, US commercial pub quizzes typically involve more than just two teams and can have as many as 25–35 teams playing in a single location, with up to 6 people per team.  Quiz companies charge bars a fee for hosting the quiz, which may range from $80 per week to $175 or more depending on attendance.  At least 20 different pub quiz companies currently exist in the US, with most operating events concentrated in major metropolitan areas.\\n\\n\\n== Leagues and competitions ==\\n\\nA quiz league is an organization that runs quizzes—typically in pubs—though with several distinctions from the standard pub quiz. They often involve only two teams and include a number of individual questions. Prizes are uncommon at a league match, aside from congratulatory kudos to the quiz team winning a league or a knockout competition. \\nThere are additionally non-pub-based leagues, where teams from throughout a region, county, state or country meet annually for more prestigious competitions, with greater prizes. Representative teams may either be the best team from each pub or a team selected from the best individuals.\\nInternationally, Believe it or Not Quiz Events in New Zealand have held an annual Champion of Champions quiz in Auckland since 1998 [SOURCE]. Initially open to teams from pubs within the greater Auckland region, it is now open to teams from throughout New Zealand. In practice, travel costs prevent most teams from the lower North Island and the South Island participating, although Christchurch, Nelson and Wellington have all provided teams.\\nThe Australasian Pub Quiz Championships has taken place annually since 2018. Open to teams from pubs and clubs from across Australia and New Zealand, the 2018 Championships is simultaneously run in Sydney, Canberra, and Wellington in late April.\\nThe United States National Trivia Association presents \"The Riddle\", a finals event open to eligible teams who play the official NTA \"Quizzo!\" live trivia game. Approximately a thousand players attended the 2008 event in Atlantic City, New Jersey.\\nSporcle runs the Pub Champions Trivia League, which hosts regional, state, and national tournaments. Their league championships are primarily based in the midwest United States. [18]\\n\\n\\n== World record ==\\nThe Guinness World Records lists the \"Largest Pub Quiz\" to a virtual quiz hosted by Jay Flynn of the UK, on April 30, 2022, with over 182,000 participating households.\\n\\n\\n== In popular culture ==\\nPub quizzes have appeared in the British sitcoms Minder, Bottom, Gavin & Stacey, The Office and Early Doors, amongst others.\\nA January 2013 episode of Anger Management features Charlie Sheen\\'s character involved in a game of bar trivia.\\nThe New Zealand television drama Nothing Trivial centres around five characters who meet regularly at a pub quiz.\\nThe ITV game show Quiz Night with Stuart Hall was based on this concept.  The set on which the show took place had a bar theme to it; contestants and the host even drank beer while doing the show.\\nThe Irish television drama Trivia from 2011 to 2012 focuses on the captain of a pub quiz team.\\n\\n\\n== Regional ==\\n\\n\\n=== United States ===\\nIn Philadelphia, many bars, specifically those owned by Irish-Americans, will have \"Quizzo\" nights.\\nTrivia nights are sometimes used as fundraisers for nonprofit organizations, and these are very common in the Greater St. Louis area. A trivia radio show was popular in the 1970s and trivia night as fundraiser became popular after introduction by an Australian immigrant couple in the early 1980s.\\n\\n\\n== See also ==\\n\\nDrinking culture\\nPuzzled Pint – International social event\\nQuizbowl – Academic quiz-based competitionPages displaying short descriptions of redirect targets\\nQuiz league – Organised quizzing format\\nList of public house topics\\n\\n\\n== References ==\\n\\n\\n== Further reading ==\\nWeaver, M. (2023, February 5). Where did pub quizzes originate?. Power Pub Quiz. Where did pub quizzes originate?. Retrieved 2023-05-01\\nParikh, H. (2009, September 5). Pounce and bounce. Pounce and Bounce. http://notesandstones.blogspot.com/2009/09/pounce-and-bounce.html. Retrieved 2023-04-30\\nBurns and Porter Associates. (1987). The Pub Quiz Book (Vol. 1). Corgi Childrens. Retrieved 2023-04-30\\nPub Champions Trivia League Championships: Sporcle Blog. The Sporcle Blog. (2019, May 20). https://www.sporcle.com/blog/pub-champions-trivia-league-championships/ Retrieved 2023-04-30\\nPub quiz host sets new YouTube Live Stream record. Guinness World Records. (2020, May 14). https://www.guinnessworldrecords.com/news/2020/5/pub-quiz-host-sets-new-youtube-live-stream-record-617392.')],\n",
       " 'answer': 'Pub quizzes are also called quiz nights, trivia nights, or bar trivia. The source of this information is the provided context, specifically from Wikipedia.'}"
      ]
     },
     "execution_count": 18,
     "metadata": {},
     "output_type": "execute_result"
    }
   ],
   "source": [
    "chain = create_retrieval_chain(\n",
    "    runnable, document_chain\n",
    ")\n",
    "chain.invoke(\n",
    "    {\n",
    "        \"input\": \"What are Pub Quizzes also called and what is the source?\",\n",
    "    }\n",
    ")"
   ]
  },
  {
   "cell_type": "markdown",
   "metadata": {},
   "source": [
    "# FAISS"
   ]
  },
  {
   "cell_type": "code",
   "execution_count": null,
   "metadata": {},
   "outputs": [
    {
     "data": {
      "text/plain": [
       "['0e8dcdee-1826-4ac7-a116-c1139ec3daf1',\n",
       " '94df4c71-9e6a-46ce-b0ba-1299ae2c47e4',\n",
       " '7ab6f74e-ee02-4b6d-8be9-8b2ea2d17ba7']"
      ]
     },
     "execution_count": 19,
     "metadata": {},
     "output_type": "execute_result"
    }
   ],
   "source": [
    "from uuid import uuid4\n",
    "import faiss\n",
    "from langchain_community.docstore.in_memory import InMemoryDocstore\n",
    "from langchain_community.vectorstores import FAISS\n",
    "from langchain.document_loaders import TextLoader\n",
    "from langchain.text_splitter import RecursiveCharacterTextSplitter\n",
    "from langchain_openai.embeddings import AzureOpenAIEmbeddings\n",
    "\n",
    "# load data\n",
    "loader = TextLoader(r\"./PubTexts/guides/userguide2016.txt\", encoding=\"utf-8\")\n",
    "data = loader.load()\n",
    "\n",
    "splitter = RecursiveCharacterTextSplitter(chunk_size=2000, chunk_overlap=100, separators=[\".\", \"\\n\"])\n",
    "documents = splitter.split_documents(data)\n",
    "\n",
    "embeddings = AzureOpenAIEmbeddings(\n",
    "    api_key=azure_key,\n",
    "    api_version=azure_version,\n",
    "    azure_deployment=azure_embeddings,\n",
    "    azure_endpoint=azure_endpoint,\n",
    ")\n",
    "\n",
    "index = faiss.IndexFlatL2(len(embeddings.embed_query(\"hello world\")))\n",
    "\n",
    "vector_store = FAISS(\n",
    "    embedding_function=embeddings,\n",
    "    index=index,\n",
    "    docstore=InMemoryDocstore(),\n",
    "    index_to_docstore_id={},\n",
    ")\n",
    "\n",
    "uuids = [str(uuid4()) for _ in range(len(documents))]\n",
    "\n",
    "vector_store.add_documents(documents=documents, ids=uuids)"
   ]
  },
  {
   "cell_type": "code",
   "execution_count": 20,
   "metadata": {},
   "outputs": [
    {
     "data": {
      "text/plain": [
       "[Document(id='0e8dcdee-1826-4ac7-a116-c1139ec3daf1', metadata={'source': './PubTexts/guides/userguide2016.txt'}, page_content='Tech Innovators Smart Home System User Guide\\nTable of Contents\\nIntroduction\\nProduct Overview\\nGetting Started\\nDevice Installation\\nSmart Hub\\nSmart Lights\\nSmart Thermostat\\nSmart Security Camera\\nSmart Door Lock\\nConnecting Devices to the Smart Hub\\nUsing the Mobile App\\nApp Installation\\nDevice Management\\nCreating Automation Rules\\nTroubleshooting\\nMaintenance and Care\\nWarranty and Support\\nSafety Information\\nContact Information\\n1. Introduction\\nWelcome to the Tech Innovators Smart Home System! This user guide will help you set up and use your new smart home devices to create a more convenient, secure, and energy-efficient living environment.\\n\\n2. Product Overview\\nThe Tech Innovators Smart Home System includes the following devices:\\n\\nSmart Hub: The central control unit for all your smart devices.\\nSmart Lights: Energy-efficient LED bulbs that can be controlled remotely.\\nSmart Thermostat: A programmable thermostat that helps you save energy.\\nSmart Security Camera: A high-definition camera for monitoring your home.\\nSmart Door Lock: A keyless entry system for enhanced security.\\n3. Getting Started\\nBefore you begin, make sure you have the following:\\n\\nA stable Wi-Fi connection\\nA smartphone or tablet with the Tech Innovators app installed\\nAll the components of the Smart Home System\\n4. Device Installation\\nSmart Hub\\nUnbox the Smart Hub and plug it into a power outlet near your Wi-Fi router.\\nConnect the Smart Hub to your router using the provided Ethernet cable.\\nPower on the Smart Hub and wait for the LED indicator to turn solid green.\\nSmart Lights\\nUnbox the Smart Lights and screw them into your existing light fixtures.\\nPower on the lights and ensure they are within range of the Smart Hub.\\nSmart Thermostat\\nTurn off the power to your HVAC system at the circuit breaker.\\nRemove the old thermostat and disconnect the wires.\\nMount the Smart Thermostat on the wall and connect the wires according to the included wiring diagram'),\n",
       " Document(id='94df4c71-9e6a-46ce-b0ba-1299ae2c47e4', metadata={'source': './PubTexts/guides/userguide2016.txt'}, page_content='.\\nPower on the HVAC system and follow the on-screen instructions to complete the setup.\\nSmart Security Camera\\nUnbox the Smart Security Camera and mount it in the desired location using the provided hardware.\\nConnect the camera to a power source and ensure it is within range of the Smart Hub.\\nFollow the app instructions to pair the camera with the Smart Hub.\\nSmart Door Lock\\nRemove the existing door lock and install the Smart Door Lock according to the included instructions.\\nEnsure the lock is properly aligned and test the locking mechanism.\\nPair the Smart Door Lock with the Smart Hub using the app.\\n5. Connecting Devices to the Smart Hub\\nOpen the Tech Innovators app on your smartphone or tablet.\\nNavigate to the “Devices” section and select “Add Device.”\\nFollow the on-screen instructions to pair each device with the Smart Hub.\\n6. Using the Mobile App\\nApp Installation\\nDownload the Tech Innovators app from the App Store or Google Play Store.\\nInstall the app and create an account or log in if you already have one.\\nDevice Management\\nOpen the app and navigate to the “Devices” section.\\nSelect a device to view its status and control settings.\\nUse the app to turn devices on/off, adjust settings, and monitor performance.\\nCreating Automation Rules\\nNavigate to the “Automation” section in the app.\\nCreate new rules by selecting triggers (e.g., time of day, device status) and actions (e.g., turn on lights, adjust thermostat).\\nSave and activate your automation rules to enhance your smart home experience.\\n7. Troubleshooting\\nSmart Hub not connecting: Ensure it is properly connected to the router and the LED indicator is solid green.\\nDevices not responding: Check the Wi-Fi connection and ensure devices are within range of the Smart Hub.\\nApp issues: Restart the app or reinstall it if necessary.\\n8. Maintenance and Care\\nRegularly clean your devices to ensure optimal performance.\\nUpdate firmware through the app to access new features and improvements'),\n",
       " Document(id='7ab6f74e-ee02-4b6d-8be9-8b2ea2d17ba7', metadata={'source': './PubTexts/guides/userguide2016.txt'}, page_content='.\\nUpdate firmware through the app to access new features and improvements.\\nReplace batteries in battery-powered devices as needed.\\n9. Warranty and Support\\nWarranty: All Tech Innovators Smart Home System devices come with a one-year warranty.\\nSupport: For assistance, contact our customer support team via the app or visit our website.\\n10. Safety Information\\nFollow installation instructions carefully to avoid damage or injury.\\nKeep devices away from water and extreme temperatures.\\nUse only approved accessories and replacement parts.\\n11. Contact Information\\nFor any questions, support, or feedback, please contact us:\\n\\nCustomer Support Email: support@techinnovators.com\\nCustomer Support Phone: +1-800-123-4567\\nWebsite: www.techinnovators.com\\nMailing Address: Tech Innovators Inc., 123 Innovation Drive, Tech City, TX 75001, USA')]"
      ]
     },
     "execution_count": 20,
     "metadata": {},
     "output_type": "execute_result"
    }
   ],
   "source": [
    "\n",
    "from langchain.chains.retrieval import create_retrieval_chain\n",
    "\n",
    "retriever = vector_store.as_retriever()\n",
    "retrieval_chain = create_retrieval_chain(retriever, document_chain)\n",
    "\n",
    "retriever.invoke(\"Pub quiz\")"
   ]
  },
  {
   "cell_type": "markdown",
   "metadata": {},
   "source": [
    "## Vector Stores"
   ]
  },
  {
   "cell_type": "code",
   "execution_count": 11,
   "metadata": {},
   "outputs": [
    {
     "name": "stdout",
     "output_type": "stream",
     "text": [
      "page_content='Tech Innovators Inc. Team Event Budget Application Guide\n",
      "\n",
      "1. Introduction Organizing team events is a great way to boost morale and foster collaboration. This guide will help you navigate the process of applying for a budget for your team event.\n",
      "\n",
      "2. Plan Your Event\n",
      "\n",
      "Define the Purpose: Clearly outline the purpose of the event (e.g., team building, training, celebration).\n",
      "Set Objectives: Identify the goals you aim to achieve with the event.\n",
      "Draft a Proposal: Prepare a detailed proposal including the event’s purpose, objectives, and expected outcomes.\n",
      "3. Estimate the Budget\n",
      "\n",
      "List Expenses: Itemize all potential expenses, such as venue rental, catering, transportation, materials, and any other costs.\n",
      "Get Quotes: Obtain quotes from vendors to ensure accurate budgeting.\n",
      "Create a Budget Plan: Summarize the total estimated cost and break it down into categories.\n",
      "4. Submit a Budget Request\n",
      "\n",
      "Step 1: Access the HR Portal\n",
      "Log in to the Tech Innovators HR portal using your employee credentials' metadata={'source': './PubTexts/internal/budget.txt'}\n",
      "------------------------\n",
      "page_content='.\n",
      "Step 2: Navigate to the Budget Request Section\n",
      "Click on the “Budget Request” tab in the main menu.\n",
      "Step 3: Fill Out the Request Form\n",
      "Enter the details of your event, including the purpose, objectives, and date.\n",
      "Attach your detailed budget plan and any supporting documents (e.g., vendor quotes).\n",
      "Step 4: Submit the Request\n",
      "Click “Submit” to send your request to the HR and finance departments for approval.\n",
      "5. Review and Approval\n",
      "\n",
      "HR Review: The HR department will review your request to ensure it aligns with company policies and objectives.\n",
      "Finance Review: The finance department will review the budget to ensure it is reasonable and within the allocated funds.\n",
      "Approval Notification: You will receive an email notification once your request is approved or denied.\n",
      "6. Coordinate with HR and Finance\n",
      "\n",
      "Step 1: Follow Up with HR\n",
      "If needed, discuss any questions or concerns with the HR department.\n",
      "Email: hr@techinnovators' metadata={'source': './PubTexts/internal/budget.txt'}\n",
      "------------------------\n",
      "page_content='.\n",
      "Email: hr@techinnovators.com\n",
      "Phone: (123) 456-7890\n",
      "Step 2: Coordinate with Finance\n",
      "Work with the finance department to finalize the budget and ensure funds are allocated.\n",
      "Email: finance@techinnovators.com\n",
      "Phone: (123) 456-7892\n",
      "7. Organize the Event\n",
      "\n",
      "Finalize Details: Confirm all arrangements with vendors and finalize the event schedule.\n",
      "Communicate with Team: Inform your team about the event details, including date, time, location, and any preparations needed.\n",
      "8. Post-Event Reporting\n",
      "\n",
      "Submit Receipts: After the event, submit all receipts and invoices to the finance department for reimbursement.\n",
      "Event Report: Prepare a brief report summarizing the event’s success, including feedback from participants and any lessons learned.\n",
      "9. Contact Information For any questions or assistance with the budget application process, please contact the HR department at hr@techinnovators.com or call (123) 456-7890.' metadata={'source': './PubTexts/internal/budget.txt'}\n",
      "------------------------\n"
     ]
    }
   ],
   "source": [
    "# vector stores\n",
    "\n",
    "from langchain.document_loaders import TextLoader\n",
    "from langchain.text_splitter import RecursiveCharacterTextSplitter\n",
    "from langchain_openai.embeddings import AzureOpenAIEmbeddings\n",
    "from langchain_chroma import Chroma\n",
    "\n",
    "\n",
    "# load data\n",
    "loader = TextLoader(r\"./PubTexts/internal/budget.txt\", encoding=\"utf-8\")\n",
    "data = loader.load()\n",
    "\n",
    "splitter = RecursiveCharacterTextSplitter(chunk_size=1000, chunk_overlap=100, separators=[\".\", \"\\n\"])\n",
    "documents = splitter.split_documents(data)\n",
    "\n",
    "embeddings = AzureOpenAIEmbeddings(\n",
    "    api_key=azure_key,\n",
    "    api_version=azure_version,\n",
    "    azure_deployment=azure_embeddings,\n",
    "    azure_endpoint=azure_endpoint,\n",
    ")\n",
    "db = Chroma.from_documents(documents, embeddings, persist_directory=\"./PubDatabase/chroma\")\n",
    "\n",
    "for document in documents:\n",
    "    print(document)\n",
    "    print(\"------------------------\")"
   ]
  },
  {
   "cell_type": "code",
   "execution_count": null,
   "metadata": {},
   "outputs": [],
   "source": [
    "# retriever\n",
    "\n",
    "from langchain.chains.retrieval import create_retrieval_chain\n",
    "\n",
    "db = Chroma(persist_directory=\"./chroma_1/presentation\", embedding_function=embeddings)\n",
    "retriever = db.as_retriever()\n",
    "retrieval_chain = create_retrieval_chain(retriever, document_chain)\n",
    "\n",
    "retriever.invoke(\"Pub quiz\")"
   ]
  },
  {
   "cell_type": "code",
   "execution_count": null,
   "metadata": {},
   "outputs": [],
   "source": [
    "retrieval_chain.invoke({\"input\": \"LLM\"})"
   ]
  },
  {
   "cell_type": "code",
   "execution_count": null,
   "metadata": {},
   "outputs": [],
   "source": [
    "answer = retrieval_chain.invoke({\"input\": \"What are Pub Quizzes also called? Cite the Source!\"})\n",
    "print(answer[\"answer\"])"
   ]
  },
  {
   "cell_type": "code",
   "execution_count": null,
   "metadata": {},
   "outputs": [],
   "source": [
    "answer = retrieval_chain.invoke({\"input\": \"Give a concise description of a LLM. Cite the Source! Write every sentence in a newline.\"})\n",
    "print(answer[\"answer\"])"
   ]
  },
  {
   "cell_type": "markdown",
   "metadata": {},
   "source": [
    "## Summary"
   ]
  },
  {
   "cell_type": "code",
   "execution_count": null,
   "metadata": {},
   "outputs": [],
   "source": [
    "summary_prompt = ChatPromptTemplate.from_template(\"\"\"Please summarize the following piece of text.\n",
    "Respond in a manner that a 5 year old would understand.\n",
    "\n",
    "Text: {context}\"\"\")\n",
    "\n",
    "summary_chain = create_stuff_documents_chain(\n",
    "    llm=llm,\n",
    "    prompt=summary_prompt,\n",
    "    document_prompt=document_prompt,\n",
    ")\n",
    "\n",
    "answer = summary_chain.invoke(\n",
    "    {\"context\": documents}\n",
    ")\n",
    "print(answer)"
   ]
  },
  {
   "cell_type": "markdown",
   "metadata": {},
   "source": [
    "# Map Reduce"
   ]
  },
  {
   "cell_type": "code",
   "execution_count": null,
   "metadata": {},
   "outputs": [
    {
     "ename": "NameError",
     "evalue": "name 'document_prompt' is not defined",
     "output_type": "error",
     "traceback": [
      "\u001b[0;31m---------------------------------------------------------------------------\u001b[0m",
      "\u001b[0;31mNameError\u001b[0m                                 Traceback (most recent call last)",
      "Cell \u001b[0;32mIn[7], line 9\u001b[0m\n\u001b[1;32m      6\u001b[0m \u001b[38;5;28;01mfrom\u001b[39;00m\u001b[38;5;250m \u001b[39m\u001b[38;5;21;01mlangchain_core\u001b[39;00m\u001b[38;5;21;01m.\u001b[39;00m\u001b[38;5;21;01mprompts\u001b[39;00m\u001b[38;5;250m \u001b[39m\u001b[38;5;28;01mimport\u001b[39;00m format_document\n\u001b[1;32m      7\u001b[0m \u001b[38;5;28;01mfrom\u001b[39;00m\u001b[38;5;250m \u001b[39m\u001b[38;5;21;01mlangchain_core\u001b[39;00m\u001b[38;5;21;01m.\u001b[39;00m\u001b[38;5;21;01mrunnables\u001b[39;00m\u001b[38;5;250m \u001b[39m\u001b[38;5;28;01mimport\u001b[39;00m RunnableParallel, RunnablePassthrough\n\u001b[0;32m----> 9\u001b[0m partial_format_document \u001b[38;5;241m=\u001b[39m partial(format_document, prompt\u001b[38;5;241m=\u001b[39m\u001b[43mdocument_prompt\u001b[49m)\n\u001b[1;32m     11\u001b[0m \u001b[38;5;66;03m# The chain we'll apply to each individual document.\u001b[39;00m\n\u001b[1;32m     12\u001b[0m \u001b[38;5;66;03m# Returns a summary of the document.\u001b[39;00m\n\u001b[1;32m     13\u001b[0m map_chain \u001b[38;5;241m=\u001b[39m (\n\u001b[1;32m     14\u001b[0m     {\u001b[38;5;124m\"\u001b[39m\u001b[38;5;124mcontext\u001b[39m\u001b[38;5;124m\"\u001b[39m: partial_format_document}\n\u001b[1;32m     15\u001b[0m     \u001b[38;5;241m|\u001b[39m summary_prompt\n\u001b[1;32m     16\u001b[0m     \u001b[38;5;241m|\u001b[39m llm\n\u001b[1;32m     17\u001b[0m     \u001b[38;5;241m|\u001b[39m StrOutputParser()\n\u001b[1;32m     18\u001b[0m )\n",
      "\u001b[0;31mNameError\u001b[0m: name 'document_prompt' is not defined"
     ]
    }
   ],
   "source": [
    "from functools import partial\n",
    "\n",
    "from langchain.chains.combine_documents import collapse_docs, split_list_of_docs\n",
    "from langchain.prompts import PromptTemplate\n",
    "from langchain.schema import StrOutputParser\n",
    "from langchain_core.prompts import format_document\n",
    "from langchain_core.runnables import RunnableParallel, RunnablePassthrough\n",
    "\n",
    "partial_format_document = partial(format_document, prompt=document_prompt)\n",
    "\n",
    "# The chain we'll apply to each individual document.\n",
    "# Returns a summary of the document.\n",
    "map_chain = (\n",
    "    {\"context\": partial_format_document}\n",
    "    | summary_prompt\n",
    "    | llm\n",
    "    | StrOutputParser()\n",
    ")\n",
    "\n",
    "# A wrapper chain to keep the original Document metadata\n",
    "map_as_doc_chain = (\n",
    "    RunnableParallel({\"doc\": RunnablePassthrough(), \"content\": map_chain})\n",
    "    | (lambda x: Document(page_content=x[\"content\"], metadata=x[\"doc\"].metadata))\n",
    ").with_config(run_name=\"Summarize (return doc)\")\n",
    "\n",
    "# The chain we'll repeatedly apply to collapse subsets of the documents\n",
    "# into a consolidate document until the total token size of our\n",
    "# documents is below some max size.\n",
    "def format_docs(docs):\n",
    "    return \"\\n\\n\".join(partial_format_document(doc) for doc in docs)\n",
    "\n",
    "collapse_chain = (\n",
    "    {\"context\": format_docs}\n",
    "    | PromptTemplate.from_template(\"Collapse this content:\\n\\n{context}\")\n",
    "    | llm\n",
    "    | StrOutputParser()\n",
    ")\n",
    "\n",
    "def get_num_tokens(docs):\n",
    "    return llm.get_num_tokens(format_docs(docs))\n",
    "\n",
    "def collapse(\n",
    "    docs,\n",
    "    config,\n",
    "    token_max=400,\n",
    "):\n",
    "    collapse_ct = 1\n",
    "    while get_num_tokens(docs) > token_max:\n",
    "        config[\"run_name\"] = f\"Collapse {collapse_ct}\"\n",
    "        invoke = partial(collapse_chain.invoke, config=config)\n",
    "        split_docs = split_list_of_docs(docs, get_num_tokens, token_max)\n",
    "        docs = [collapse_docs(_docs, invoke) for _docs in split_docs]\n",
    "        collapse_ct += 1\n",
    "    return docs\n",
    "\n",
    "# The chain we'll use to combine our individual document summaries\n",
    "# (or summaries over subset of documents if we had to collapse the map results)\n",
    "# into a final summary.\n",
    "\n",
    "reduce_chain = (\n",
    "    {\"context\": format_docs}\n",
    "    | PromptTemplate.from_template(\"Combine these summaries:\\n\\n{context}\")\n",
    "    | llm\n",
    "    | StrOutputParser()\n",
    ").with_config(run_name=\"Reduce\")\n",
    "\n",
    "# The final full chain\n",
    "map_reduce = (map_as_doc_chain.map() | collapse | reduce_chain).with_config(run_name=\"Map reduce\")\n",
    "\n",
    "answer = map_reduce.invoke(\n",
    "    input=documents[:5],\n",
    "    config={\"max_concurrency\": 5},\n",
    ")\n",
    "print(answer)"
   ]
  },
  {
   "cell_type": "markdown",
   "metadata": {},
   "source": [
    "# Reasoning"
   ]
  },
  {
   "cell_type": "code",
   "execution_count": null,
   "metadata": {},
   "outputs": [
    {
     "name": "stdout",
     "output_type": "stream",
     "text": [
      "Um den Preis für 3 Kilogramm Kartoffeln zu berechnen, müssen wir zuerst den Preis pro Kilogramm ermitteln.\n",
      "\n",
      "Ein Sack mit 4 Kilogramm Kartoffeln kostet 8 Euro. Daher beträgt der Preis pro Kilogramm Kartoffeln:\n",
      "\\[ \\text{Preis pro Kilogramm} = \\frac{8 \\text{ Euro}}{4 \\text{ Kilogramm}} = 2 \\text{ Euro pro Kilogramm} \\]\n",
      "\n",
      "Nun wissen wir, dass 1 Kilogramm Kartoffeln 2 Euro kostet. Um den Preis für 3 Kilogramm zu berechnen, multiplizieren wir den Preis pro Kilogramm mit der Anzahl der Kilogramm, die wir kaufen möchten:\n",
      "\\[ \\text{Preis für 3 Kilogramm} = 3 \\text{ Kilogramm} \\times 2 \\text{ Euro pro Kilogramm} = 6 \\text{ Euro} \\]\n",
      "\n",
      "Daher kosten 3 Kilogramm Kartoffeln 6 Euro.\n"
     ]
    }
   ],
   "source": [
    "reason_prompt = ChatPromptTemplate.from_template(\"\"\"You are a teacher answering questions of students. Provide thorough reasoning for your answer.\n",
    "Question: {input}\"\"\")\n",
    "\n",
    "reason_chain = reason_prompt | llm | StrOutputParser()\n",
    "\n",
    "answer = reason_chain.invoke({\"input\": \"Ein Sack mit 4 Kilo Kartoffeln kostet 8 Euro. Wie teuer sind 3 Kilogram der Kartoffeln?\"})\n",
    "print(answer)"
   ]
  },
  {
   "cell_type": "code",
   "execution_count": null,
   "metadata": {},
   "outputs": [
    {
     "ename": "",
     "evalue": "",
     "output_type": "error",
     "traceback": [
      "\u001b[1;31mnotebook controller is DISPOSED. \n",
      "\u001b[1;31mView Jupyter <a href='command:jupyter.viewOutput'>log</a> for further details."
     ]
    }
   ],
   "source": [
    "answer = reason_chain.invoke({\"input\": \"\"\"\n",
    "In Deutschland verbraucht jeder Mensch im Jahr durchschnittlich 350 kg Holz (Papier, Brennholz, Möbel usw.). Ein Festmeter Holz (ein m³ vollgefüllt) wiegt etwa 700 kg.\n",
    "Ein hundertjähriger Baum hat ca. 2,5 Festmeter. Ein Menschenleben dauert etwa 75 Jahre.\n",
    "\n",
    "    Wie viel wiegt ein solcher Baum?\n",
    "    In welcher Zeit verbraucht man das Holz eines 100-jährigen Baumes?\n",
    "    Wie viel solche Bäume verbrauchen wir im Leben?\n",
    "    Wie viele „Baumjahre\" verbrauchen wir im Leben?\n",
    "\"\"\"})  # Ergebnis: 1.) 1750 kg      2.) 5 Jahren      3.) 15 Bäume       4.) 1500 Baumjahre\n",
    "print(answer)"
   ]
  },
  {
   "cell_type": "code",
   "execution_count": null,
   "metadata": {},
   "outputs": [
    {
     "ename": "",
     "evalue": "",
     "output_type": "error",
     "traceback": [
      "\u001b[1;31mnotebook controller is DISPOSED. \n",
      "\u001b[1;31mView Jupyter <a href='command:jupyter.viewOutput'>log</a> for further details."
     ]
    }
   ],
   "source": [
    "llm_reason = AzureChatOpenAI(\n",
    "    api_key=azure_key,\n",
    "    api_version=azure_version,\n",
    "    azure_deployment=azure_reasoning,\n",
    "    model=azure_deployment,\n",
    "    azure_endpoint=azure_endpoint,\n",
    ")\n",
    "\n",
    "reason_chain = reason_prompt | llm_reason | StrOutputParser()\n",
    "\n",
    "answer = reason_chain.invoke({\"input\": \"\"\"\n",
    "Leonardo macht sich wieder auf den Weg mit seinem Bugatti Veyron.\n",
    "Er fährt wieder von Pisa nach Mailand mit durchschnittlich 380 km/h.\n",
    "Er braucht dafür eine Dreiviertelstunde. Auf dem Rückweg landet er wiederum in einem Stau. Der Stau ist 10 km lang und er braucht dafür 1,5 Stunden.\n",
    "Danach kommt nochmals 60 km langsam fahrender Verkehr von 40 km/h. Danach kann Leonardo wieder normal weiterfahren.\n",
    "Insgesamt ist seine Durchschnittsgeschwindigkeit, gemessen für den Hin- und Rückweg, 114 km/h.\n",
    "Was ist seine Durchschnittsgeschwindigkeit auf dem Rückweg, auf dem Abschnitt ohne Stau oder langsam fahrenden Verkehr?\"\"\"})\n",
    "print(answer)"
   ]
  },
  {
   "cell_type": "markdown",
   "metadata": {},
   "source": [
    "## Few shotting"
   ]
  },
  {
   "cell_type": "code",
   "execution_count": null,
   "metadata": {},
   "outputs": [
    {
     "ename": "",
     "evalue": "",
     "output_type": "error",
     "traceback": [
      "\u001b[1;31mnotebook controller is DISPOSED. \n",
      "\u001b[1;31mView Jupyter <a href='command:jupyter.viewOutput'>log</a> for further details."
     ]
    }
   ],
   "source": [
    "intent_prompt = ChatPromptTemplate.from_template(\n",
    "\"\"\"A question can have an intent of either Booking a flight, Getting a reservation or ordering food.\n",
    "Now tell me which intent the following question has.\n",
    "                                            \n",
    "Question: {input}\"\"\")\n",
    "\n",
    "intent_chain = intent_prompt | llm\n",
    "answer = intent_chain.invoke({\"input\": \"Let's go have some food at Wendy's.\"})\n",
    "print(answer.content)"
   ]
  },
  {
   "cell_type": "code",
   "execution_count": null,
   "metadata": {},
   "outputs": [
    {
     "ename": "",
     "evalue": "",
     "output_type": "error",
     "traceback": [
      "\u001b[1;31mnotebook controller is DISPOSED. \n",
      "\u001b[1;31mView Jupyter <a href='command:jupyter.viewOutput'>log</a> for further details."
     ]
    }
   ],
   "source": [
    "intent_prompt = ChatPromptTemplate.from_template(\n",
    "\"\"\"A question can have an intent of either Booking a flight, Getting a reservation or ordering food.\n",
    "Now tell me which intent the following question has. Only answer with two/three words.\n",
    "                                            \n",
    "Question: {input}\"\"\")\n",
    "\n",
    "intent_chain = intent_prompt | llm\n",
    "answer = intent_chain.invoke({\"input\": \"Let's go have some food at Wendy's.\"})\n",
    "print(answer.content)"
   ]
  },
  {
   "cell_type": "code",
   "execution_count": null,
   "metadata": {},
   "outputs": [
    {
     "ename": "",
     "evalue": "",
     "output_type": "error",
     "traceback": [
      "\u001b[1;31mnotebook controller is DISPOSED. \n",
      "\u001b[1;31mView Jupyter <a href='command:jupyter.viewOutput'>log</a> for further details."
     ]
    }
   ],
   "source": [
    "intent_prompt = ChatPromptTemplate.from_template(\n",
    "\"\"\"A question can have an intent of either Booking a flight, Getting a reservation or ordering food.\n",
    "\n",
    "Consider the following examples:\n",
    "\n",
    "Question: Let's go to Tokyo next week.\n",
    "Answer: Booking a flight\n",
    "\n",
    "Question: Get some pizza delivered for this evening.\n",
    "Answer: Ordering food\n",
    "\n",
    "Question: How about a movie at 8pm at the cinema?\n",
    "Anmswer: Getting a reservation\n",
    "\n",
    "Now tell me which intent the follolwing question has. Only answer with two/three words.\n",
    "Question: {input}\"\"\")\n",
    "\n",
    "intent_chain = intent_prompt | llm\n",
    "answer = intent_chain.invoke({\"input\": \"Let's go have some food at Wendy's.\"})\n",
    "print(answer.content)"
   ]
  },
  {
   "cell_type": "markdown",
   "metadata": {},
   "source": [
    "## Agent and Tools"
   ]
  },
  {
   "cell_type": "code",
   "execution_count": null,
   "metadata": {},
   "outputs": [
    {
     "ename": "",
     "evalue": "",
     "output_type": "error",
     "traceback": [
      "\u001b[1;31mnotebook controller is DISPOSED. \n",
      "\u001b[1;31mView Jupyter <a href='command:jupyter.viewOutput'>log</a> for further details."
     ]
    }
   ],
   "source": [
    "answer = llm.invoke(\"What did Frank-Walter Steinmeier say in his christmas speech 2023?\")\n",
    "print(answer.content)"
   ]
  },
  {
   "cell_type": "code",
   "execution_count": null,
   "metadata": {},
   "outputs": [
    {
     "ename": "",
     "evalue": "",
     "output_type": "error",
     "traceback": [
      "\u001b[1;31mnotebook controller is DISPOSED. \n",
      "\u001b[1;31mView Jupyter <a href='command:jupyter.viewOutput'>log</a> for further details."
     ]
    }
   ],
   "source": [
    "from langchain.tools import Tool\n",
    "from langchain.tools.ddg_search import DuckDuckGoSearchRun\n",
    "\n",
    "ddg = DuckDuckGoSearchRun()\n",
    "\n",
    "ddg_tool = Tool.from_function(\n",
    "    func = ddg.run,\n",
    "    name = \"duck_duck_go_search\",\n",
    "    description = \"Search DuckDuckGo for a query about current events.\",\n",
    ")\n",
    "\n",
    "tools = [ddg_tool]\n",
    "\n",
    "ddg_tool.run(\"What did Frank-Walter Steinmeier say in his christmas speech 2023?\")"
   ]
  },
  {
   "cell_type": "code",
   "execution_count": null,
   "metadata": {},
   "outputs": [
    {
     "ename": "",
     "evalue": "",
     "output_type": "error",
     "traceback": [
      "\u001b[1;31mnotebook controller is DISPOSED. \n",
      "\u001b[1;31mView Jupyter <a href='command:jupyter.viewOutput'>log</a> for further details."
     ]
    }
   ],
   "source": [
    "from langchain_core.messages import SystemMessage\n",
    "from langgraph.prebuilt import create_react_agent\n",
    "\n",
    "agent_prompt = SystemMessage(content=\"You are a helpful assistant. You can use the tools provided to help answer questions.\")\n",
    "agent = create_react_agent(\n",
    "    tools=tools, model=llm, prompt=agent_prompt, debug=True,\n",
    ")\n",
    "agent.invoke({\"messages\": \"What did Frank-Walter Steinmeier say in his christmas speech 2023?\"})"
   ]
  },
  {
   "cell_type": "code",
   "execution_count": null,
   "metadata": {},
   "outputs": [
    {
     "ename": "",
     "evalue": "",
     "output_type": "error",
     "traceback": [
      "\u001b[1;31mnotebook controller is DISPOSED. \n",
      "\u001b[1;31mView Jupyter <a href='command:jupyter.viewOutput'>log</a> for further details."
     ]
    }
   ],
   "source": [
    "from IPython.display import Image, display\n",
    "\n",
    "display(Image(agent.get_graph().draw_mermaid_png()))"
   ]
  },
  {
   "cell_type": "code",
   "execution_count": null,
   "metadata": {},
   "outputs": [
    {
     "ename": "",
     "evalue": "",
     "output_type": "error",
     "traceback": [
      "\u001b[1;31mnotebook controller is DISPOSED. \n",
      "\u001b[1;31mView Jupyter <a href='command:jupyter.viewOutput'>log</a> for further details."
     ]
    }
   ],
   "source": [
    "new_agent_prompt = SystemMessage(content=\"You are a great AI-Assistant and only answer in 10 words. You can use the tools provided to help answer questions.\")\n",
    "agent = create_react_agent(\n",
    "    tools=tools, model=llm, prompt=new_agent_prompt, debug=True\n",
    ")\n",
    "agent.invoke({\"messages\": \"What did Frank-Walter Steinmeier say in his christmas speech 2023?\"})"
   ]
  },
  {
   "cell_type": "code",
   "execution_count": null,
   "metadata": {},
   "outputs": [
    {
     "ename": "",
     "evalue": "",
     "output_type": "error",
     "traceback": [
      "\u001b[1;31mnotebook controller is DISPOSED. \n",
      "\u001b[1;31mView Jupyter <a href='command:jupyter.viewOutput'>log</a> for further details."
     ]
    }
   ],
   "source": [
    "result = agent.invoke({\"messages\": \"What did Frank-Walter Steinmeier say in his christmas speech 2023?\"})\n",
    "result[\"messages\"][-1].content"
   ]
  },
  {
   "cell_type": "code",
   "execution_count": null,
   "metadata": {},
   "outputs": [
    {
     "ename": "",
     "evalue": "",
     "output_type": "error",
     "traceback": [
      "\u001b[1;31mnotebook controller is DISPOSED. \n",
      "\u001b[1;31mView Jupyter <a href='command:jupyter.viewOutput'>log</a> for further details."
     ]
    }
   ],
   "source": [
    "from langchain_core.runnables import RunnablePassthrough\n",
    "\n",
    "simple_summary_prompt = ChatPromptTemplate.from_template(\"\"\"Please summarize the following piece of text.\n",
    "Respond in a manner that a 5 year old would understand. Keep it funky!\n",
    "\n",
    "Text: {input}\"\"\")\n",
    "simple_summary_chain = {\"input\": RunnablePassthrough()} | simple_summary_prompt | llm\n",
    "\n",
    "summary_tool = Tool(\n",
    "    name=\"funky_summary_tool\",\n",
    "    func=simple_summary_chain.invoke,\n",
    "    description=\"Use this tool to do a funky summary. Make sure you get the text to do a summary of first.\"\n",
    ")\n",
    "tools.append(summary_tool)\n",
    "\n",
    "agent = create_react_agent(\n",
    "    tools=tools, model=llm, prompt=agent_prompt, debug=True,\n",
    ")\n",
    "result = agent.invoke({\"messages\": \"Funky summarize the christmas speech 2023 of Frank-Walter Steinmeier?\"})\n",
    "result[\"messages\"][-1].content"
   ]
  },
  {
   "cell_type": "code",
   "execution_count": null,
   "metadata": {},
   "outputs": [
    {
     "ename": "",
     "evalue": "",
     "output_type": "error",
     "traceback": [
      "\u001b[1;31mnotebook controller is DISPOSED. \n",
      "\u001b[1;31mView Jupyter <a href='command:jupyter.viewOutput'>log</a> for further details."
     ]
    }
   ],
   "source": [
    "retrieval_agent_prompt = SystemMessage(content=\"\"\"\n",
    "You are a great AI-Assistant to answer question based provided documents. \n",
    "You are given access to an retrieval too. Use it to get information you need - do not answer based on general knowledge!\n",
    "If you do not get the necessary information from the retrieval tool, try to adjust your question.\n",
    "Always try to search for single facts and not for complete answers!\n",
    "Only answer based on sources provided and cite the source after each fact!\n",
    "\"\"\")\n",
    "\n",
    "tool_retrieval_chain = {\"input\": RunnablePassthrough()} | retrieval_chain\n",
    "\n",
    "retrieval_tool = Tool(\n",
    "    name=\"retrieval_tool\",\n",
    "    func=tool_retrieval_chain.invoke,\n",
    "    description=\"Use this tool to retrieve information from a set of documents. Only search for one word facts!\",\n",
    ")\n",
    "\n",
    "retrieval_agent = create_react_agent(\n",
    "    tools=[retrieval_tool], model=llm, prompt=retrieval_agent_prompt,\n",
    ")\n",
    "\n",
    "result = retrieval_agent.invoke({\"messages\": \"What is the common ground of pub quizzes and llms?\"})\n",
    "print('\\n'.join([f\"{message.__class__.__name__}: {str(message)}\" for message in result[\"messages\"]]))\n",
    "print(result[\"messages\"][-1].content)"
   ]
  },
  {
   "cell_type": "markdown",
   "metadata": {},
   "source": [
    "# Memory"
   ]
  },
  {
   "cell_type": "code",
   "execution_count": null,
   "metadata": {},
   "outputs": [
    {
     "ename": "",
     "evalue": "",
     "output_type": "error",
     "traceback": [
      "\u001b[1;31mnotebook controller is DISPOSED. \n",
      "\u001b[1;31mView Jupyter <a href='command:jupyter.viewOutput'>log</a> for further details."
     ]
    }
   ],
   "source": [
    "\n",
    "from langgraph.checkpoint.memory import MemorySaver\n",
    "\n",
    "config = {\"configurable\": {\"thread_id\": \"1\"}}\n",
    "\n",
    "memory = MemorySaver()\n",
    "memory_agent = create_react_agent(llm, prompt=retrieval_agent_prompt, tools=[retrieval_tool], checkpointer=memory)\n",
    "\n",
    "result = memory_agent.invoke({\"messages\": \"What is the common ground of pub quizzes and llms?\"}, config)\n",
    "print('\\n'.join([f\"{message.__class__.__name__}: {str(message)}\" for message in result[\"messages\"]]))\n",
    "\n",
    "print(\"--------\")\n",
    "\n",
    "result = memory_agent.invoke({\"messages\": \"Translate that to german.\"}, config)\n",
    "print('\\n'.join([f\"{message.__class__.__name__}: {str(message)}\" for message in result[\"messages\"]]))\n"
   ]
  },
  {
   "cell_type": "markdown",
   "metadata": {},
   "source": [
    "## Images"
   ]
  },
  {
   "cell_type": "code",
   "execution_count": 12,
   "metadata": {},
   "outputs": [
    {
     "name": "stdout",
     "output_type": "stream",
     "text": [
      "This image showcases a high-tech, futuristic smart home system titled \"Tech Invoaters Smart Home System.\" It depicts a well-organized, digitalized living space where various smart devices and home automation technologies are seamlessly integrated. The setting features a person interacting with multiple screens and devices, surrounded by digital interfaces that control various aspects of the home environment. The image highlights an advanced, interconnected system designed to enhance convenience and efficiency within a modern smart home layout. Additionally, the detailed digital displays and futuristic design elements emphasize the cutting-edge nature of the technology.\n"
     ]
    }
   ],
   "source": [
    "import base64\n",
    "from mimetypes import guess_type\n",
    "from langchain.prompts import HumanMessagePromptTemplate, ChatPromptTemplate\n",
    "\n",
    "# Function to encode a local image into data URL \n",
    "def local_image_to_data_url(image_path):\n",
    "    mime_type, _ = guess_type(image_path)\n",
    "    # Default to png\n",
    "    if mime_type is None:\n",
    "        mime_type = 'image/png'\n",
    "\n",
    "    # Read and encode the image file\n",
    "    with open(image_path, \"rb\") as image_file:\n",
    "        base64_encoded_data = base64.b64encode(image_file.read()).decode('utf-8')\n",
    "\n",
    "    # Construct the data URL\n",
    "    return f\"data:{mime_type};base64,{base64_encoded_data}\"\n",
    "\n",
    "\n",
    "prompt_template =  HumanMessagePromptTemplate.from_template(\n",
    "            template=[\n",
    "                {\"type\": \"text\", \"text\": \"Summarize this image\"},\n",
    "                {\n",
    "                    \"type\": \"image_url\",\n",
    "                    \"image_url\": \"{encoded_image_url}\",\n",
    "                },\n",
    "            ]\n",
    "        )\n",
    "\n",
    "summarize_image_prompt = ChatPromptTemplate.from_messages([prompt_template])\n",
    "\n",
    "gpt4_image_chain = summarize_image_prompt | llm \n",
    "\n",
    "img_file = \"PubImages/UserGuide.jpg\"\n",
    "page3_encoded = local_image_to_data_url(img_file)\n",
    "\n",
    "answer = gpt4_image_chain.invoke(input={\"encoded_image_url\":page3_encoded})\n",
    "print(answer.content)"
   ]
  },
  {
   "cell_type": "code",
   "execution_count": null,
   "metadata": {},
   "outputs": [
    {
     "ename": "",
     "evalue": "",
     "output_type": "error",
     "traceback": [
      "\u001b[1;31mnotebook controller is DISPOSED. \n",
      "\u001b[1;31mView Jupyter <a href='command:jupyter.viewOutput'>log</a> for further details."
     ]
    }
   ],
   "source": [
    "img_file = \"data/images/teambudget.jpg\"\n",
    "page3_encoded = local_image_to_data_url(img_file)\n",
    "\n",
    "answer = gpt4_image_chain.invoke(input={\"encoded_image_url\":page3_encoded})\n",
    "print(answer.content)"
   ]
  },
  {
   "cell_type": "markdown",
   "metadata": {},
   "source": [
    "## Audio"
   ]
  },
  {
   "cell_type": "code",
   "execution_count": null,
   "metadata": {},
   "outputs": [
    {
     "ename": "",
     "evalue": "",
     "output_type": "error",
     "traceback": [
      "\u001b[1;31mnotebook controller is DISPOSED. \n",
      "\u001b[1;31mView Jupyter <a href='command:jupyter.viewOutput'>log</a> for further details."
     ]
    }
   ],
   "source": [
    "import openai\n",
    "\n",
    "client = openai.AzureOpenAI(\n",
    "    api_key=azure_key,\n",
    "    azure_endpoint=azure_endpoint,\n",
    "    azure_deployment=azure_whisper,\n",
    "    api_version=azure_version,\n",
    ")\n",
    "\n",
    "def get_transcript(audio_file):\n",
    "    if not os.path.exists(audio_file):\n",
    "        audio_file = \"./data/audio/\" + audio_file\n",
    "    client.audio.with_raw_response\n",
    "    return client.audio.transcriptions.create(\n",
    "        file=open(audio_file, \"rb\"),            \n",
    "        model=\"whisper\",\n",
    "        language=\"de\",\n",
    "    ).text\n",
    "\n",
    "audio_test_file = \"./data/audio/newyear2023.mp3\"\n",
    "print(get_transcript(audio_test_file))\n"
   ]
  },
  {
   "cell_type": "code",
   "execution_count": null,
   "metadata": {},
   "outputs": [
    {
     "ename": "",
     "evalue": "",
     "output_type": "error",
     "traceback": [
      "\u001b[1;31mnotebook controller is DISPOSED. \n",
      "\u001b[1;31mView Jupyter <a href='command:jupyter.viewOutput'>log</a> for further details."
     ]
    }
   ],
   "source": [
    "# audio\n",
    "def get_audio_doc(input):\n",
    "    return {\n",
    "        \"context\": [Document(\n",
    "            page_content=get_transcript(input),\n",
    "            metadata={\n",
    "                \"source\": \"audio\"\n",
    "            }\n",
    "        )]\n",
    "    }\n",
    "audio_summary_chain = get_audio_doc | summary_chain\n",
    "#answer = audio_summary_chain.invoke(\"./data/audio/newyear2023.mp3\")\n",
    "#print(answer)\n"
   ]
  },
  {
   "cell_type": "code",
   "execution_count": null,
   "metadata": {},
   "outputs": [
    {
     "ename": "",
     "evalue": "",
     "output_type": "error",
     "traceback": [
      "\u001b[1;31mnotebook controller is DISPOSED. \n",
      "\u001b[1;31mView Jupyter <a href='command:jupyter.viewOutput'>log</a> for further details."
     ]
    }
   ],
   "source": [
    "def available_audio_files(input):\n",
    "    return \"./data/audio/newyear2023.mp3 - new years eve speech 2023 of Olaf Scholz\\n\"\\\n",
    "        \"./data/audio/newyear2016.mp3 - new years eve speech 2016 of Angela Merkel\\n\" \\\n",
    "        \"./data/audio/christmas2019.mp3 - christmas speech 2019 of Frank-Walter Steinmeyer\\n\"\n",
    "\n",
    "audio_file_tool = Tool(\n",
    "    name=\"audio_file_tool\",\n",
    "    func=available_audio_files,\n",
    "    description=\"Use this tool to see which new years eve speeches are available as an audio file.\"\n",
    ")\n",
    "\n",
    "audio_tool = Tool(\n",
    "    name=\"audio_transcript_tool\",\n",
    "    func=get_audio_doc,\n",
    "    description=\"Use this tool to get the transcript of the speech in a given audio file.\"\n",
    ")\n",
    "\n",
    "agent = create_react_agent(\n",
    "    tools=[audio_file_tool, audio_tool, summary_tool],\n",
    "    model=llm,\n",
    "    prompt=agent_prompt,\n",
    "    debug=True,\n",
    ")\n",
    "agent.invoke({\"messages\": \"Summarize the new years eve speech 2023 of Olaf Scholz using the audio and summary tool?\"})\n"
   ]
  },
  {
   "cell_type": "markdown",
   "metadata": {},
   "source": [
    "# SQL"
   ]
  },
  {
   "cell_type": "code",
   "execution_count": 13,
   "metadata": {},
   "outputs": [],
   "source": [
    "SQL_AGENT_PROMPT = \"\"\"You are an agent designed to interact with a SQL database, to show database outputs as tables and to generate plots.\n",
    "Given an input question, create a syntactically correct SQL query to run, then look at the results of the query and return the answer.\n",
    "If no specific number of results is requested, return the top 5 results. If a specific range (e.g. dates) are requested, don't limit the number of results.\n",
    "You can order the results by a relevant column to return the most interesting examples in the database.\n",
    "Query for the relevant columns given e question.\n",
    "You have access to tools for interacting with the database.\n",
    "Only use the below tools. Only use the information returned by the below tools to construct your final answer.\n",
    "You MUST double check your query before executing it. If you get an error while executing a query, rewrite the query and try again.\n",
    "\n",
    "DO NOT make any DML statements (INSERT, UPDATE, DELETE, DROP etc.) to the database.\n",
    "\n",
    "Always give the results received from the database. They must be displayed with a custom markdown element (table).\n",
    "This is an example of how to use it:\n",
    "\n",
    "```db_result\n",
    "| Country | TotalCost |\n",
    "|---------|-----------|\n",
    "| Germany | 101       |\n",
    "| Italy   | 104       |\n",
    "| France  | 98        |\n",
    "```\n",
    "\n",
    "Use **bold** markdown syntax to highlight the most relevant part of your answer (e.g. a calculation result).\n",
    "\n",
    "Before making any query, check the available table names and correct schema of the table to avoid errors.\n",
    "\n",
    "Hint: to get a specfic part of a datetime, use the strftime(format, date) function with %Y for years, %m for months and %d for days.\n",
    "\n",
    "Remember: ALWAYS output the returned data! ALWAYS use the custom markdown syntax for this (triple backtick and db_result)!\n",
    "ALWAYS query the database if any data is requested, even if the user does not refer to the database. Assume that any request refers to DB data and execute the corresponding function.\n",
    "The database is the single source of truth for your answers. If the data cannot be found in the database, state this truthfully.\n",
    "y\n",
    "Double check if you actually used a function to query the DB before including data in your response.\n",
    "\n",
    "If you need to do any calculations, ALWAYS use the SQL database for this. NEVER use your own knowledge to provide the answer to a mathematical calculation.\n",
    "For example, to calculate the sum of 5 and 3, run this query: `SELECT 5 + 3 AS result;`\n",
    "\n",
    "\"\"\""
   ]
  },
  {
   "cell_type": "code",
   "execution_count": 14,
   "metadata": {},
   "outputs": [],
   "source": [
    "from langchain_community.agent_toolkits.sql.toolkit import SQLDatabaseToolkit\n",
    "from langchain_community.utilities.sql_database import SQLDatabase\n",
    "\n",
    "db = SQLDatabase.from_uri(\"sqlite:///chinook.db\")\n",
    "\n"
   ]
  },
  {
   "cell_type": "code",
   "execution_count": null,
   "metadata": {},
   "outputs": [],
   "source": []
  },
  {
   "cell_type": "code",
   "execution_count": 17,
   "metadata": {},
   "outputs": [
    {
     "name": "stdout",
     "output_type": "stream",
     "text": [
      "HumanMessage: content='What are the top 5 tracks by length?' additional_kwargs={} response_metadata={} id='db1b70bc-2444-467c-a8b8-baa6ad8a098e'\n",
      "AIMessage: content='' additional_kwargs={'tool_calls': [{'id': 'call_crNV8PCDkqEOG1MAtoRBdO2s', 'function': {'arguments': '{}', 'name': 'sql_db_list_tables'}, 'type': 'function'}], 'refusal': None} response_metadata={'token_usage': {'completion_tokens': 13, 'prompt_tokens': 844, 'total_tokens': 857, 'completion_tokens_details': {'accepted_prediction_tokens': 0, 'audio_tokens': 0, 'reasoning_tokens': 0, 'rejected_prediction_tokens': 0}, 'prompt_tokens_details': {'audio_tokens': 0, 'cached_tokens': 0}}, 'model_name': 'gpt-4o-2024-05-13', 'system_fingerprint': 'fp_b705f0c291', 'prompt_filter_results': [{'prompt_index': 0, 'content_filter_results': {'hate': {'filtered': False, 'severity': 'safe'}, 'jailbreak': {'filtered': False, 'detected': False}, 'self_harm': {'filtered': False, 'severity': 'safe'}, 'sexual': {'filtered': False, 'severity': 'safe'}, 'violence': {'filtered': False, 'severity': 'safe'}}}], 'finish_reason': 'tool_calls', 'logprobs': None, 'content_filter_results': {}} id='run-8f635d1a-f4b7-4ed0-9866-882cf831db52-0' tool_calls=[{'name': 'sql_db_list_tables', 'args': {}, 'id': 'call_crNV8PCDkqEOG1MAtoRBdO2s', 'type': 'tool_call'}] usage_metadata={'input_tokens': 844, 'output_tokens': 13, 'total_tokens': 857, 'input_token_details': {'audio': 0, 'cache_read': 0}, 'output_token_details': {'audio': 0, 'reasoning': 0}}\n",
      "ToolMessage: content='album, artist, customer, employee, genre, invoice, invoice_line, media_type, playlist, playlist_track, track' name='sql_db_list_tables' id='b06c5b74-9a98-4a8a-981e-ce9020757ead' tool_call_id='call_crNV8PCDkqEOG1MAtoRBdO2s'\n",
      "AIMessage: content='' additional_kwargs={'tool_calls': [{'id': 'call_WqErS5rG99Q3U1IBXhLynRoO', 'function': {'arguments': '{\"table_names\":\"track\"}', 'name': 'sql_db_schema'}, 'type': 'function'}], 'refusal': None} response_metadata={'token_usage': {'completion_tokens': 17, 'prompt_tokens': 890, 'total_tokens': 907, 'completion_tokens_details': {'accepted_prediction_tokens': 0, 'audio_tokens': 0, 'reasoning_tokens': 0, 'rejected_prediction_tokens': 0}, 'prompt_tokens_details': {'audio_tokens': 0, 'cached_tokens': 0}}, 'model_name': 'gpt-4o-2024-05-13', 'system_fingerprint': 'fp_b705f0c291', 'prompt_filter_results': [{'prompt_index': 0, 'content_filter_results': {'hate': {'filtered': False, 'severity': 'safe'}, 'jailbreak': {'filtered': False, 'detected': False}, 'self_harm': {'filtered': False, 'severity': 'safe'}, 'sexual': {'filtered': False, 'severity': 'safe'}, 'violence': {'filtered': False, 'severity': 'safe'}}}], 'finish_reason': 'tool_calls', 'logprobs': None, 'content_filter_results': {}} id='run-26b1b5b1-7bd5-4d51-b628-8b13bebf18ff-0' tool_calls=[{'name': 'sql_db_schema', 'args': {'table_names': 'track'}, 'id': 'call_WqErS5rG99Q3U1IBXhLynRoO', 'type': 'tool_call'}] usage_metadata={'input_tokens': 890, 'output_tokens': 17, 'total_tokens': 907, 'input_token_details': {'audio': 0, 'cache_read': 0}, 'output_token_details': {'audio': 0, 'reasoning': 0}}\n",
      "ToolMessage: content='\\nCREATE TABLE track (\\n\\ttrack_id INTEGER NOT NULL, \\n\\tname NVARCHAR(200) NOT NULL, \\n\\talbum_id INTEGER, \\n\\tmedia_type_id INTEGER NOT NULL, \\n\\tgenre_id INTEGER, \\n\\tcomposer NVARCHAR(220), \\n\\tmilliseconds INTEGER NOT NULL, \\n\\tbytes INTEGER, \\n\\tunit_price NUMERIC(10, 2) NOT NULL, \\n\\tPRIMARY KEY (track_id), \\n\\tFOREIGN KEY(media_type_id) REFERENCES media_type (media_type_id), \\n\\tFOREIGN KEY(genre_id) REFERENCES genre (genre_id), \\n\\tFOREIGN KEY(album_id) REFERENCES album (album_id)\\n)\\n\\n/*\\n3 rows from track table:\\ntrack_id\\tname\\talbum_id\\tmedia_type_id\\tgenre_id\\tcomposer\\tmilliseconds\\tbytes\\tunit_price\\n1\\tFor Those About To Rock (We Salute You)\\t1\\t1\\t1\\tAngus Young, Malcolm Young, Brian Johnson\\t343719\\t11170334\\t0.99\\n2\\tBalls to the Wall\\t2\\t2\\t1\\tNone\\t342562\\t5510424\\t0.99\\n3\\tFast As a Shark\\t3\\t2\\t1\\tF. Baltes, S. Kaufman, U. Dirkscneider & W. Hoffman\\t230619\\t3990994\\t0.99\\n*/' name='sql_db_schema' id='5873c38f-d2bb-4218-a981-96ed60421160' tool_call_id='call_WqErS5rG99Q3U1IBXhLynRoO'\n",
      "AIMessage: content='' additional_kwargs={'tool_calls': [{'id': 'call_WZ37uGWzdx2qgGTg1p5vrsdl', 'function': {'arguments': '{\"query\":\"SELECT name, milliseconds FROM track ORDER BY milliseconds DESC LIMIT 5;\"}', 'name': 'sql_db_query_checker'}, 'type': 'function'}], 'refusal': None} response_metadata={'token_usage': {'completion_tokens': 30, 'prompt_tokens': 1186, 'total_tokens': 1216, 'completion_tokens_details': {'accepted_prediction_tokens': 0, 'audio_tokens': 0, 'reasoning_tokens': 0, 'rejected_prediction_tokens': 0}, 'prompt_tokens_details': {'audio_tokens': 0, 'cached_tokens': 0}}, 'model_name': 'gpt-4o-2024-05-13', 'system_fingerprint': 'fp_b705f0c291', 'prompt_filter_results': [{'prompt_index': 0, 'content_filter_results': {'hate': {'filtered': False, 'severity': 'safe'}, 'jailbreak': {'filtered': False, 'detected': False}, 'self_harm': {'filtered': False, 'severity': 'safe'}, 'sexual': {'filtered': False, 'severity': 'safe'}, 'violence': {'filtered': False, 'severity': 'safe'}}}], 'finish_reason': 'tool_calls', 'logprobs': None, 'content_filter_results': {}} id='run-5199b08b-8ef4-45cc-bb60-9bdff114cd72-0' tool_calls=[{'name': 'sql_db_query_checker', 'args': {'query': 'SELECT name, milliseconds FROM track ORDER BY milliseconds DESC LIMIT 5;'}, 'id': 'call_WZ37uGWzdx2qgGTg1p5vrsdl', 'type': 'tool_call'}] usage_metadata={'input_tokens': 1186, 'output_tokens': 30, 'total_tokens': 1216, 'input_token_details': {'audio': 0, 'cache_read': 0}, 'output_token_details': {'audio': 0, 'reasoning': 0}}\n",
      "ToolMessage: content='```sql\\nSELECT name, milliseconds FROM track ORDER BY milliseconds DESC LIMIT 5;\\n```' name='sql_db_query_checker' id='797f3e7e-db0b-4886-8ba0-e48a644c54fa' tool_call_id='call_WZ37uGWzdx2qgGTg1p5vrsdl'\n",
      "AIMessage: content='' additional_kwargs={'tool_calls': [{'id': 'call_utvQtYtFgznrkCHbY8T6rOg4', 'function': {'arguments': '{\"query\":\"SELECT name, milliseconds FROM track ORDER BY milliseconds DESC LIMIT 5;\"}', 'name': 'sql_db_query'}, 'type': 'function'}], 'refusal': None} response_metadata={'token_usage': {'completion_tokens': 29, 'prompt_tokens': 1243, 'total_tokens': 1272, 'completion_tokens_details': {'accepted_prediction_tokens': 0, 'audio_tokens': 0, 'reasoning_tokens': 0, 'rejected_prediction_tokens': 0}, 'prompt_tokens_details': {'audio_tokens': 0, 'cached_tokens': 0}}, 'model_name': 'gpt-4o-2024-05-13', 'system_fingerprint': 'fp_b705f0c291', 'prompt_filter_results': [{'prompt_index': 0, 'content_filter_results': {'hate': {'filtered': False, 'severity': 'safe'}, 'jailbreak': {'filtered': False, 'detected': False}, 'self_harm': {'filtered': False, 'severity': 'safe'}, 'sexual': {'filtered': False, 'severity': 'safe'}, 'violence': {'filtered': False, 'severity': 'safe'}}}], 'finish_reason': 'tool_calls', 'logprobs': None, 'content_filter_results': {}} id='run-10db66d7-0a90-496e-8005-1b59b07f4c08-0' tool_calls=[{'name': 'sql_db_query', 'args': {'query': 'SELECT name, milliseconds FROM track ORDER BY milliseconds DESC LIMIT 5;'}, 'id': 'call_utvQtYtFgznrkCHbY8T6rOg4', 'type': 'tool_call'}] usage_metadata={'input_tokens': 1243, 'output_tokens': 29, 'total_tokens': 1272, 'input_token_details': {'audio': 0, 'cache_read': 0}, 'output_token_details': {'audio': 0, 'reasoning': 0}}\n",
      "ToolMessage: content=\"[('Occupation / Precipice', 5286953), ('Through a Looking Glass', 5088838), ('Greetings from Earth, Pt. 1', 2960293), ('The Man With Nine Lives', 2956998), ('Battlestar Galactica, Pt. 2', 2956081)]\" name='sql_db_query' id='34b3c0d3-069e-49e9-abdf-4bf6e11fd392' tool_call_id='call_utvQtYtFgznrkCHbY8T6rOg4'\n",
      "AIMessage: content='The top 5 tracks by length are:\\n\\n```db_result\\n| Track                           | Length (milliseconds) |\\n|---------------------------------|-----------------------|\\n| Occupation / Precipice          | 5286953               |\\n| Through a Looking Glass         | 5088838               |\\n| Greetings from Earth, Pt. 1     | 2960293               |\\n| The Man With Nine Lives         | 2956998               |\\n| Battlestar Galactica, Pt. 2     | 2956081               |\\n```' additional_kwargs={'refusal': None} response_metadata={'token_usage': {'completion_tokens': 110, 'prompt_tokens': 1349, 'total_tokens': 1459, 'completion_tokens_details': {'accepted_prediction_tokens': 0, 'audio_tokens': 0, 'reasoning_tokens': 0, 'rejected_prediction_tokens': 0}, 'prompt_tokens_details': {'audio_tokens': 0, 'cached_tokens': 0}}, 'model_name': 'gpt-4o-2024-05-13', 'system_fingerprint': 'fp_b705f0c291', 'prompt_filter_results': [{'prompt_index': 0, 'content_filter_results': {'hate': {'filtered': False, 'severity': 'safe'}, 'jailbreak': {'filtered': False, 'detected': False}, 'self_harm': {'filtered': False, 'severity': 'safe'}, 'sexual': {'filtered': False, 'severity': 'safe'}, 'violence': {'filtered': False, 'severity': 'safe'}}}], 'finish_reason': 'stop', 'logprobs': None, 'content_filter_results': {'hate': {'filtered': False, 'severity': 'safe'}, 'protected_material_code': {'filtered': False, 'detected': False}, 'protected_material_text': {'filtered': False, 'detected': False}, 'self_harm': {'filtered': False, 'severity': 'safe'}, 'sexual': {'filtered': False, 'severity': 'safe'}, 'violence': {'filtered': False, 'severity': 'safe'}}} id='run-c7d17432-f0c8-440b-99f2-97f89300bf8c-0' usage_metadata={'input_tokens': 1349, 'output_tokens': 110, 'total_tokens': 1459, 'input_token_details': {'audio': 0, 'cache_read': 0}, 'output_token_details': {'audio': 0, 'reasoning': 0}}\n"
     ]
    }
   ],
   "source": [
    "from langchain_community.agent_toolkits.sql.toolkit import SQLDatabaseToolkit\n",
    "from langchain_community.utilities.sql_database import SQLDatabase\n",
    "from langgraph.prebuilt import create_react_agent\n",
    "\n",
    "db = SQLDatabase.from_uri(\"sqlite:///PubSql/chinook.db\")\n",
    "toolkit = SQLDatabaseToolkit(db=db, llm=llm)\n",
    "tools = toolkit.get_tools()\n",
    "\n",
    "sql_agent = create_react_agent(\n",
    "    tools=tools,\n",
    "    model=llm,\n",
    "    prompt=SQL_AGENT_PROMPT,\n",
    ")\n",
    "\n",
    "result = sql_agent.invoke({\"messages\": \"What are the top 5 tracks by length?\"})\n",
    "print('\\n'.join([f\"{message.__class__.__name__}: {str(message)}\" for message in result[\"messages\"]]))\n",
    "#print('\\n'.join([message.content for message in result[\"messages\"]]))"
   ]
  },
  {
   "cell_type": "code",
   "execution_count": null,
   "metadata": {},
   "outputs": [
    {
     "ename": "",
     "evalue": "",
     "output_type": "error",
     "traceback": [
      "\u001b[1;31mnotebook controller is DISPOSED. \n",
      "\u001b[1;31mView Jupyter <a href='command:jupyter.viewOutput'>log</a> for further details."
     ]
    }
   ],
   "source": [
    "db.run(\"SELECT * FROM track LIMIT 5;\")"
   ]
  },
  {
   "cell_type": "code",
   "execution_count": null,
   "metadata": {},
   "outputs": [
    {
     "ename": "",
     "evalue": "",
     "output_type": "error",
     "traceback": [
      "\u001b[1;31mnotebook controller is DISPOSED. \n",
      "\u001b[1;31mView Jupyter <a href='command:jupyter.viewOutput'>log</a> for further details."
     ]
    }
   ],
   "source": [
    "from pydantic import BaseModel\n",
    "\n",
    "class WikiJson(BaseModel):\n",
    "    title: str\n",
    "    content: str\n",
    "    summary: str\n",
    "\n",
    "llm_structured = AzureChatOpenAI(\n",
    "    api_key=azure_key,\n",
    "    api_version=\"2024-12-01-preview\",\n",
    "    azure_deployment=\"gpt-4o-mini\",\n",
    "    model=azure_deployment,\n",
    "    azure_endpoint=azure_endpoint,\n",
    ").with_structured_output(WikiJson)\n",
    "\n",
    "answer = llm_structured.invoke(\"What do you know about Pub Quizzes?\", seed=1000)\n",
    "print(answer.model_dump_json(indent=2))"
   ]
  }
 ],
 "metadata": {
  "kernelspec": {
   "display_name": "venv",
   "language": "python",
   "name": "python3"
  },
  "language_info": {
   "codemirror_mode": {
    "name": "ipython",
    "version": 3
   },
   "file_extension": ".py",
   "mimetype": "text/x-python",
   "name": "python",
   "nbconvert_exporter": "python",
   "pygments_lexer": "ipython3",
   "version": "3.12.2"
  }
 },
 "nbformat": 4,
 "nbformat_minor": 2
}
